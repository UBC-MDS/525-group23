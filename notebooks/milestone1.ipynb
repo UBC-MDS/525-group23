{
 "cells": [
  {
   "cell_type": "markdown",
   "id": "b706bc55",
   "metadata": {},
   "source": [
    "# DSCI 525 - Web and Cloud Computing"
   ]
  },
  {
   "cell_type": "markdown",
   "id": "9b76de2f",
   "metadata": {},
   "source": [
    "## Milestone 1: Tackling big data on your laptop"
   ]
  },
  {
   "cell_type": "markdown",
   "id": "b4c8de17",
   "metadata": {},
   "source": [
    "### Content:\n",
    "\n",
    "1. [Downloading the data](#1)\n",
    "2. [Combining data CSVs](#2)\n",
    "3. [Load the combined CSV to memory and perform a simple EDA](#3)\n",
    "4. [Perform a simple EDA in R](#4)"
   ]
  },
  {
   "cell_type": "code",
   "execution_count": 1,
   "id": "7f97e155",
   "metadata": {},
   "outputs": [],
   "source": [
    "import re\n",
    "import os\n",
    "import glob\n",
    "import zipfile\n",
    "import requests\n",
    "from urllib.request import urlretrieve\n",
    "import json\n",
    "import pandas as pd\n",
    "from memory_profiler import memory_usage\n",
    "import numpy as np\n",
    "import dask.dataframe as dd\n",
    "\n",
    "import pyarrow.dataset as ds\n",
    "import rpy2_arrow.pyarrow_rarrow as pyra\n",
    "import pyarrow.feather as feather\n",
    "import pyarrow.parquet as pq"
   ]
  },
  {
   "cell_type": "code",
   "execution_count": 2,
   "id": "a7ee2bf7",
   "metadata": {},
   "outputs": [],
   "source": [
    "# %load_ext rpy2.ipython\n",
    "%load_ext memory_profiler"
   ]
  },
  {
   "cell_type": "markdown",
   "id": "359d7576",
   "metadata": {},
   "source": [
    "<a id='1'/>\n",
    "\n",
    "### 1. Downloading the data\n",
    "\n",
    "1. [Download the data from figshare to your local computer using the figshare API (you can make use of requests library).](#download_data)\n",
    "2. [Extract the zip file, again programmatically, similar to how we did it in class.](#extract_zip)\n",
    "\n"
   ]
  },
  {
   "cell_type": "code",
   "execution_count": 3,
   "id": "60331487",
   "metadata": {},
   "outputs": [],
   "source": [
    "# add metadata\n",
    "article_id = 14096681  # this is the unique identifier of the article on figshare\n",
    "url = f\"https://api.figshare.com/v2/articles/{article_id}\"\n",
    "headers = {\"Content-Type\": \"application/json\"}\n",
    "output_directory = \"data/\""
   ]
  },
  {
   "cell_type": "code",
   "execution_count": 4,
   "id": "d67fd85e",
   "metadata": {},
   "outputs": [],
   "source": [
    "# define \n",
    "response = requests.request(\"GET\", url, headers=headers)\n",
    "data = json.loads(response.text)  # this contains all the articles data\n",
    "files = data[\"files\"]             # this is just the data about the files, which is what we want"
   ]
  },
  {
   "cell_type": "code",
   "execution_count": 5,
   "id": "29a54348",
   "metadata": {},
   "outputs": [],
   "source": [
    "# create directory if doesn't exist\n",
    "os.makedirs(output_directory, exist_ok=True)"
   ]
  },
  {
   "cell_type": "markdown",
   "id": "d65cdf42",
   "metadata": {},
   "source": [
    "<a id='download_data'/>\n",
    "\n",
    "#### 1. Download the data from figshare"
   ]
  },
  {
   "cell_type": "code",
   "execution_count": 14,
   "id": "cbdcf8cb",
   "metadata": {},
   "outputs": [
    {
     "name": "stdout",
     "output_type": "stream",
     "text": [
      "peak memory: 295.57 MiB, increment: 0.39 MiB\n",
      "CPU times: user 5.05 s, sys: 4.2 s, total: 9.25 s\n",
      "Wall time: 22min 31s\n"
     ]
    }
   ],
   "source": [
    "%%time\n",
    "%%memit\n",
    "\n",
    "# download data using the API\n",
    "files_to_dl = [\"data.zip\"]\n",
    "for file in files:\n",
    "    if file[\"name\"] in files_to_dl:       \n",
    "        urlretrieve(file[\"download_url\"], output_directory + file[\"name\"])"
   ]
  },
  {
   "cell_type": "markdown",
   "id": "4052c003",
   "metadata": {},
   "source": [
    "<a id='extract_zip'/>\n",
    "\n",
    "#### 2.Extract the zip file"
   ]
  },
  {
   "cell_type": "code",
   "execution_count": 15,
   "id": "1cb67f24",
   "metadata": {},
   "outputs": [
    {
     "name": "stdout",
     "output_type": "stream",
     "text": [
      "peak memory: 295.71 MiB, increment: 0.14 MiB\n",
      "CPU times: user 17.4 s, sys: 2.33 s, total: 19.7 s\n",
      "Wall time: 22.5 s\n"
     ]
    }
   ],
   "source": [
    "%%time\n",
    "%%memit      \n",
    "\n",
    "# unzip the files\n",
    "with zipfile.ZipFile(os.path.join(output_directory, \"data.zip\"), 'r') as f:\n",
    "    f.extractall(output_directory)\n"
   ]
  },
  {
   "cell_type": "markdown",
   "id": "431920a0",
   "metadata": {},
   "source": [
    "<a id='2'/>\n",
    "\n",
    "### 2. Combining data CSVs"
   ]
  },
  {
   "cell_type": "markdown",
   "id": "ffbd5dea",
   "metadata": {},
   "source": [
    "1. [Use one of the following options to combine data CSVs into a single CSV.](#combine_csv)\n",
    "    - Pandas (we chose this)\n",
    "    - DASK\n",
    "2. When combining the csv files make sure to add extra column called \"model\" that identifies the model.\n",
    "3. Compare run times and memory usages of these options on different machines within your team, and summarize your observations in your milestone notebook.\n",
    "\n",
    "    - Run times for combining CSV files for all team members (in alphabetical order):\n",
    "        - **Fatime**\n",
    "             - peak memory: 9295.53 MiB, increment: 9031.22 MiB\n",
    "             - CPU times: user 1min 3s, sys: 8.43 s, total: 1min 12s\n",
    "             - Wall time: 1min 20s\n",
    "        - **Jingjing**\n",
    "             - peak memory: 431.68 MiB, increment: 0.25 MiB\n",
    "             - CPU times: user 5min 40s, sys: 23.9 s, total: 5min 46s\n",
    "             - Wall time: 6min 27s  "
   ]
  },
  {
   "cell_type": "code",
   "execution_count": 6,
   "id": "badda5d3",
   "metadata": {},
   "outputs": [],
   "source": [
    "# all csv files\n",
    "files = glob.glob(output_directory + '*.csv')\n",
    "\n",
    "# remove csvs that are formatted differently\n",
    "files = [x for x in files if \"observed\" not in x]"
   ]
  },
  {
   "cell_type": "markdown",
   "id": "0218d505",
   "metadata": {},
   "source": [
    "<a id='combine_csv'/>   \n",
    "\n",
    "#### 1. Combine CSV files into one big CSV file"
   ]
  },
  {
   "cell_type": "code",
   "execution_count": 8,
   "id": "2f85ece4",
   "metadata": {},
   "outputs": [],
   "source": [
    "usecols = ['time', 'lat_min', 'lat_max', 'lon_min', 'lon_max', 'rain (mm/day)']"
   ]
  },
  {
   "cell_type": "code",
   "execution_count": 9,
   "id": "921ffb43",
   "metadata": {},
   "outputs": [
    {
     "name": "stdout",
     "output_type": "stream",
     "text": [
      "peak memory: 9295.53 MiB, increment: 9031.22 MiB\n",
      "CPU times: user 1min 3s, sys: 8.43 s, total: 1min 12s\n",
      "Wall time: 1min 20s\n"
     ]
    }
   ],
   "source": [
    "%%time\n",
    "%%memit\n",
    "\n",
    "# create a dict of dataframes\n",
    "df = {x.split('_daily')[0].split('/')[1]: pd.read_csv(x, usecols=usecols) for x in files}\n",
    "\n",
    "# concatenate to one dataframe\n",
    "df = pd.concat(df, names=[\"model\", \"row\"])"
   ]
  },
  {
   "cell_type": "code",
   "execution_count": 10,
   "id": "472f5051",
   "metadata": {},
   "outputs": [
    {
     "data": {
      "text/html": [
       "<div>\n",
       "<style scoped>\n",
       "    .dataframe tbody tr th:only-of-type {\n",
       "        vertical-align: middle;\n",
       "    }\n",
       "\n",
       "    .dataframe tbody tr th {\n",
       "        vertical-align: top;\n",
       "    }\n",
       "\n",
       "    .dataframe thead th {\n",
       "        text-align: right;\n",
       "    }\n",
       "</style>\n",
       "<table border=\"1\" class=\"dataframe\">\n",
       "  <thead>\n",
       "    <tr style=\"text-align: right;\">\n",
       "      <th></th>\n",
       "      <th></th>\n",
       "      <th>time</th>\n",
       "      <th>lat_min</th>\n",
       "      <th>lat_max</th>\n",
       "      <th>lon_min</th>\n",
       "      <th>lon_max</th>\n",
       "      <th>rain (mm/day)</th>\n",
       "    </tr>\n",
       "    <tr>\n",
       "      <th>model</th>\n",
       "      <th>row</th>\n",
       "      <th></th>\n",
       "      <th></th>\n",
       "      <th></th>\n",
       "      <th></th>\n",
       "      <th></th>\n",
       "      <th></th>\n",
       "    </tr>\n",
       "  </thead>\n",
       "  <tbody>\n",
       "    <tr>\n",
       "      <th rowspan=\"5\" valign=\"top\">MPI-ESM-1-2-HAM</th>\n",
       "      <th>0</th>\n",
       "      <td>1889-01-01 12:00:00</td>\n",
       "      <td>-35.439867</td>\n",
       "      <td>-33.574619</td>\n",
       "      <td>141.5625</td>\n",
       "      <td>143.4375</td>\n",
       "      <td>4.244226e-13</td>\n",
       "    </tr>\n",
       "    <tr>\n",
       "      <th>1</th>\n",
       "      <td>1889-01-02 12:00:00</td>\n",
       "      <td>-35.439867</td>\n",
       "      <td>-33.574619</td>\n",
       "      <td>141.5625</td>\n",
       "      <td>143.4375</td>\n",
       "      <td>4.217326e-13</td>\n",
       "    </tr>\n",
       "    <tr>\n",
       "      <th>2</th>\n",
       "      <td>1889-01-03 12:00:00</td>\n",
       "      <td>-35.439867</td>\n",
       "      <td>-33.574619</td>\n",
       "      <td>141.5625</td>\n",
       "      <td>143.4375</td>\n",
       "      <td>4.498125e-13</td>\n",
       "    </tr>\n",
       "    <tr>\n",
       "      <th>3</th>\n",
       "      <td>1889-01-04 12:00:00</td>\n",
       "      <td>-35.439867</td>\n",
       "      <td>-33.574619</td>\n",
       "      <td>141.5625</td>\n",
       "      <td>143.4375</td>\n",
       "      <td>4.251282e-13</td>\n",
       "    </tr>\n",
       "    <tr>\n",
       "      <th>4</th>\n",
       "      <td>1889-01-05 12:00:00</td>\n",
       "      <td>-35.439867</td>\n",
       "      <td>-33.574619</td>\n",
       "      <td>141.5625</td>\n",
       "      <td>143.4375</td>\n",
       "      <td>4.270161e-13</td>\n",
       "    </tr>\n",
       "  </tbody>\n",
       "</table>\n",
       "</div>"
      ],
      "text/plain": [
       "                                    time    lat_min    lat_max   lon_min  \\\n",
       "model           row                                                        \n",
       "MPI-ESM-1-2-HAM 0    1889-01-01 12:00:00 -35.439867 -33.574619  141.5625   \n",
       "                1    1889-01-02 12:00:00 -35.439867 -33.574619  141.5625   \n",
       "                2    1889-01-03 12:00:00 -35.439867 -33.574619  141.5625   \n",
       "                3    1889-01-04 12:00:00 -35.439867 -33.574619  141.5625   \n",
       "                4    1889-01-05 12:00:00 -35.439867 -33.574619  141.5625   \n",
       "\n",
       "                      lon_max  rain (mm/day)  \n",
       "model           row                           \n",
       "MPI-ESM-1-2-HAM 0    143.4375   4.244226e-13  \n",
       "                1    143.4375   4.217326e-13  \n",
       "                2    143.4375   4.498125e-13  \n",
       "                3    143.4375   4.251282e-13  \n",
       "                4    143.4375   4.270161e-13  "
      ]
     },
     "execution_count": 10,
     "metadata": {},
     "output_type": "execute_result"
    }
   ],
   "source": [
    "df.head()"
   ]
  },
  {
   "cell_type": "code",
   "execution_count": 12,
   "id": "dcfed91c",
   "metadata": {},
   "outputs": [
    {
     "data": {
      "text/html": [
       "<div>\n",
       "<style scoped>\n",
       "    .dataframe tbody tr th:only-of-type {\n",
       "        vertical-align: middle;\n",
       "    }\n",
       "\n",
       "    .dataframe tbody tr th {\n",
       "        vertical-align: top;\n",
       "    }\n",
       "\n",
       "    .dataframe thead th {\n",
       "        text-align: right;\n",
       "    }\n",
       "</style>\n",
       "<table border=\"1\" class=\"dataframe\">\n",
       "  <thead>\n",
       "    <tr style=\"text-align: right;\">\n",
       "      <th></th>\n",
       "      <th></th>\n",
       "      <th>time</th>\n",
       "      <th>lat_min</th>\n",
       "      <th>lat_max</th>\n",
       "      <th>lon_min</th>\n",
       "      <th>lon_max</th>\n",
       "      <th>rain (mm/day)</th>\n",
       "    </tr>\n",
       "    <tr>\n",
       "      <th>model</th>\n",
       "      <th>row</th>\n",
       "      <th></th>\n",
       "      <th></th>\n",
       "      <th></th>\n",
       "      <th></th>\n",
       "      <th></th>\n",
       "      <th></th>\n",
       "    </tr>\n",
       "  </thead>\n",
       "  <tbody>\n",
       "    <tr>\n",
       "      <th rowspan=\"5\" valign=\"top\">SAM0-UNICON</th>\n",
       "      <th>3541148</th>\n",
       "      <td>2014-12-27 12:00:00</td>\n",
       "      <td>-30.157068</td>\n",
       "      <td>-29.21466</td>\n",
       "      <td>153.125</td>\n",
       "      <td>154.375</td>\n",
       "      <td>6.689683</td>\n",
       "    </tr>\n",
       "    <tr>\n",
       "      <th>3541149</th>\n",
       "      <td>2014-12-28 12:00:00</td>\n",
       "      <td>-30.157068</td>\n",
       "      <td>-29.21466</td>\n",
       "      <td>153.125</td>\n",
       "      <td>154.375</td>\n",
       "      <td>7.862555</td>\n",
       "    </tr>\n",
       "    <tr>\n",
       "      <th>3541150</th>\n",
       "      <td>2014-12-29 12:00:00</td>\n",
       "      <td>-30.157068</td>\n",
       "      <td>-29.21466</td>\n",
       "      <td>153.125</td>\n",
       "      <td>154.375</td>\n",
       "      <td>10.005026</td>\n",
       "    </tr>\n",
       "    <tr>\n",
       "      <th>3541151</th>\n",
       "      <td>2014-12-30 12:00:00</td>\n",
       "      <td>-30.157068</td>\n",
       "      <td>-29.21466</td>\n",
       "      <td>153.125</td>\n",
       "      <td>154.375</td>\n",
       "      <td>8.541592</td>\n",
       "    </tr>\n",
       "    <tr>\n",
       "      <th>3541152</th>\n",
       "      <td>2014-12-31 12:00:00</td>\n",
       "      <td>-30.157068</td>\n",
       "      <td>-29.21466</td>\n",
       "      <td>153.125</td>\n",
       "      <td>154.375</td>\n",
       "      <td>68.117489</td>\n",
       "    </tr>\n",
       "  </tbody>\n",
       "</table>\n",
       "</div>"
      ],
      "text/plain": [
       "                                    time    lat_min   lat_max  lon_min  \\\n",
       "model       row                                                          \n",
       "SAM0-UNICON 3541148  2014-12-27 12:00:00 -30.157068 -29.21466  153.125   \n",
       "            3541149  2014-12-28 12:00:00 -30.157068 -29.21466  153.125   \n",
       "            3541150  2014-12-29 12:00:00 -30.157068 -29.21466  153.125   \n",
       "            3541151  2014-12-30 12:00:00 -30.157068 -29.21466  153.125   \n",
       "            3541152  2014-12-31 12:00:00 -30.157068 -29.21466  153.125   \n",
       "\n",
       "                     lon_max  rain (mm/day)  \n",
       "model       row                              \n",
       "SAM0-UNICON 3541148  154.375       6.689683  \n",
       "            3541149  154.375       7.862555  \n",
       "            3541150  154.375      10.005026  \n",
       "            3541151  154.375       8.541592  \n",
       "            3541152  154.375      68.117489  "
      ]
     },
     "execution_count": 12,
     "metadata": {},
     "output_type": "execute_result"
    }
   ],
   "source": [
    "df.tail()"
   ]
  },
  {
   "cell_type": "code",
   "execution_count": 13,
   "id": "9808ebd6",
   "metadata": {},
   "outputs": [
    {
     "ename": "KeyboardInterrupt",
     "evalue": "",
     "output_type": "error",
     "traceback": [
      "\u001b[0;31m---------------------------------------------------------------------------\u001b[0m",
      "\u001b[0;31mKeyboardInterrupt\u001b[0m                         Traceback (most recent call last)",
      "\u001b[0;32m<ipython-input-13-2aacda7aa38f>\u001b[0m in \u001b[0;36m<module>\u001b[0;34m\u001b[0m\n\u001b[0;32m----> 1\u001b[0;31m \u001b[0mdf\u001b[0m\u001b[0;34m.\u001b[0m\u001b[0mto_csv\u001b[0m\u001b[0;34m(\u001b[0m\u001b[0;34m'combined.csv'\u001b[0m\u001b[0;34m)\u001b[0m\u001b[0;34m\u001b[0m\u001b[0;34m\u001b[0m\u001b[0m\n\u001b[0m",
      "\u001b[0;32m~/opt/miniconda3/envs/525/lib/python3.8/site-packages/pandas/core/generic.py\u001b[0m in \u001b[0;36mto_csv\u001b[0;34m(self, path_or_buf, sep, na_rep, float_format, columns, header, index, index_label, mode, encoding, compression, quoting, quotechar, line_terminator, chunksize, date_format, doublequote, escapechar, decimal, errors, storage_options)\u001b[0m\n\u001b[1;32m   3385\u001b[0m         )\n\u001b[1;32m   3386\u001b[0m \u001b[0;34m\u001b[0m\u001b[0m\n\u001b[0;32m-> 3387\u001b[0;31m         return DataFrameRenderer(formatter).to_csv(\n\u001b[0m\u001b[1;32m   3388\u001b[0m             \u001b[0mpath_or_buf\u001b[0m\u001b[0;34m,\u001b[0m\u001b[0;34m\u001b[0m\u001b[0;34m\u001b[0m\u001b[0m\n\u001b[1;32m   3389\u001b[0m             \u001b[0mline_terminator\u001b[0m\u001b[0;34m=\u001b[0m\u001b[0mline_terminator\u001b[0m\u001b[0;34m,\u001b[0m\u001b[0;34m\u001b[0m\u001b[0;34m\u001b[0m\u001b[0m\n",
      "\u001b[0;32m~/opt/miniconda3/envs/525/lib/python3.8/site-packages/pandas/io/formats/format.py\u001b[0m in \u001b[0;36mto_csv\u001b[0;34m(self, path_or_buf, encoding, sep, columns, index_label, mode, compression, quoting, quotechar, line_terminator, chunksize, date_format, doublequote, escapechar, errors, storage_options)\u001b[0m\n\u001b[1;32m   1081\u001b[0m             \u001b[0mformatter\u001b[0m\u001b[0;34m=\u001b[0m\u001b[0mself\u001b[0m\u001b[0;34m.\u001b[0m\u001b[0mfmt\u001b[0m\u001b[0;34m,\u001b[0m\u001b[0;34m\u001b[0m\u001b[0;34m\u001b[0m\u001b[0m\n\u001b[1;32m   1082\u001b[0m         )\n\u001b[0;32m-> 1083\u001b[0;31m         \u001b[0mcsv_formatter\u001b[0m\u001b[0;34m.\u001b[0m\u001b[0msave\u001b[0m\u001b[0;34m(\u001b[0m\u001b[0;34m)\u001b[0m\u001b[0;34m\u001b[0m\u001b[0;34m\u001b[0m\u001b[0m\n\u001b[0m\u001b[1;32m   1084\u001b[0m \u001b[0;34m\u001b[0m\u001b[0m\n\u001b[1;32m   1085\u001b[0m         \u001b[0;32mif\u001b[0m \u001b[0mcreated_buffer\u001b[0m\u001b[0;34m:\u001b[0m\u001b[0;34m\u001b[0m\u001b[0;34m\u001b[0m\u001b[0m\n",
      "\u001b[0;32m~/opt/miniconda3/envs/525/lib/python3.8/site-packages/pandas/io/formats/csvs.py\u001b[0m in \u001b[0;36msave\u001b[0;34m(self)\u001b[0m\n\u001b[1;32m    246\u001b[0m             )\n\u001b[1;32m    247\u001b[0m \u001b[0;34m\u001b[0m\u001b[0m\n\u001b[0;32m--> 248\u001b[0;31m             \u001b[0mself\u001b[0m\u001b[0;34m.\u001b[0m\u001b[0m_save\u001b[0m\u001b[0;34m(\u001b[0m\u001b[0;34m)\u001b[0m\u001b[0;34m\u001b[0m\u001b[0;34m\u001b[0m\u001b[0m\n\u001b[0m\u001b[1;32m    249\u001b[0m \u001b[0;34m\u001b[0m\u001b[0m\n\u001b[1;32m    250\u001b[0m     \u001b[0;32mdef\u001b[0m \u001b[0m_save\u001b[0m\u001b[0;34m(\u001b[0m\u001b[0mself\u001b[0m\u001b[0;34m)\u001b[0m \u001b[0;34m->\u001b[0m \u001b[0;32mNone\u001b[0m\u001b[0;34m:\u001b[0m\u001b[0;34m\u001b[0m\u001b[0;34m\u001b[0m\u001b[0m\n",
      "\u001b[0;32m~/opt/miniconda3/envs/525/lib/python3.8/site-packages/pandas/io/formats/csvs.py\u001b[0m in \u001b[0;36m_save\u001b[0;34m(self)\u001b[0m\n\u001b[1;32m    251\u001b[0m         \u001b[0;32mif\u001b[0m \u001b[0mself\u001b[0m\u001b[0;34m.\u001b[0m\u001b[0m_need_to_save_header\u001b[0m\u001b[0;34m:\u001b[0m\u001b[0;34m\u001b[0m\u001b[0;34m\u001b[0m\u001b[0m\n\u001b[1;32m    252\u001b[0m             \u001b[0mself\u001b[0m\u001b[0;34m.\u001b[0m\u001b[0m_save_header\u001b[0m\u001b[0;34m(\u001b[0m\u001b[0;34m)\u001b[0m\u001b[0;34m\u001b[0m\u001b[0;34m\u001b[0m\u001b[0m\n\u001b[0;32m--> 253\u001b[0;31m         \u001b[0mself\u001b[0m\u001b[0;34m.\u001b[0m\u001b[0m_save_body\u001b[0m\u001b[0;34m(\u001b[0m\u001b[0;34m)\u001b[0m\u001b[0;34m\u001b[0m\u001b[0;34m\u001b[0m\u001b[0m\n\u001b[0m\u001b[1;32m    254\u001b[0m \u001b[0;34m\u001b[0m\u001b[0m\n\u001b[1;32m    255\u001b[0m     \u001b[0;32mdef\u001b[0m \u001b[0m_save_header\u001b[0m\u001b[0;34m(\u001b[0m\u001b[0mself\u001b[0m\u001b[0;34m)\u001b[0m \u001b[0;34m->\u001b[0m \u001b[0;32mNone\u001b[0m\u001b[0;34m:\u001b[0m\u001b[0;34m\u001b[0m\u001b[0;34m\u001b[0m\u001b[0m\n",
      "\u001b[0;32m~/opt/miniconda3/envs/525/lib/python3.8/site-packages/pandas/io/formats/csvs.py\u001b[0m in \u001b[0;36m_save_body\u001b[0;34m(self)\u001b[0m\n\u001b[1;32m    289\u001b[0m             \u001b[0;32mif\u001b[0m \u001b[0mstart_i\u001b[0m \u001b[0;34m>=\u001b[0m \u001b[0mend_i\u001b[0m\u001b[0;34m:\u001b[0m\u001b[0;34m\u001b[0m\u001b[0;34m\u001b[0m\u001b[0m\n\u001b[1;32m    290\u001b[0m                 \u001b[0;32mbreak\u001b[0m\u001b[0;34m\u001b[0m\u001b[0;34m\u001b[0m\u001b[0m\n\u001b[0;32m--> 291\u001b[0;31m             \u001b[0mself\u001b[0m\u001b[0;34m.\u001b[0m\u001b[0m_save_chunk\u001b[0m\u001b[0;34m(\u001b[0m\u001b[0mstart_i\u001b[0m\u001b[0;34m,\u001b[0m \u001b[0mend_i\u001b[0m\u001b[0;34m)\u001b[0m\u001b[0;34m\u001b[0m\u001b[0;34m\u001b[0m\u001b[0m\n\u001b[0m\u001b[1;32m    292\u001b[0m \u001b[0;34m\u001b[0m\u001b[0m\n\u001b[1;32m    293\u001b[0m     \u001b[0;32mdef\u001b[0m \u001b[0m_save_chunk\u001b[0m\u001b[0;34m(\u001b[0m\u001b[0mself\u001b[0m\u001b[0;34m,\u001b[0m \u001b[0mstart_i\u001b[0m\u001b[0;34m:\u001b[0m \u001b[0mint\u001b[0m\u001b[0;34m,\u001b[0m \u001b[0mend_i\u001b[0m\u001b[0;34m:\u001b[0m \u001b[0mint\u001b[0m\u001b[0;34m)\u001b[0m \u001b[0;34m->\u001b[0m \u001b[0;32mNone\u001b[0m\u001b[0;34m:\u001b[0m\u001b[0;34m\u001b[0m\u001b[0;34m\u001b[0m\u001b[0m\n",
      "\u001b[0;32m~/opt/miniconda3/envs/525/lib/python3.8/site-packages/pandas/io/formats/csvs.py\u001b[0m in \u001b[0;36m_save_chunk\u001b[0;34m(self, start_i, end_i)\u001b[0m\n\u001b[1;32m    299\u001b[0m         \u001b[0mdata\u001b[0m \u001b[0;34m=\u001b[0m \u001b[0;34m[\u001b[0m\u001b[0mres\u001b[0m\u001b[0;34m.\u001b[0m\u001b[0miget_values\u001b[0m\u001b[0;34m(\u001b[0m\u001b[0mi\u001b[0m\u001b[0;34m)\u001b[0m \u001b[0;32mfor\u001b[0m \u001b[0mi\u001b[0m \u001b[0;32min\u001b[0m \u001b[0mrange\u001b[0m\u001b[0;34m(\u001b[0m\u001b[0mlen\u001b[0m\u001b[0;34m(\u001b[0m\u001b[0mres\u001b[0m\u001b[0;34m.\u001b[0m\u001b[0mitems\u001b[0m\u001b[0;34m)\u001b[0m\u001b[0;34m)\u001b[0m\u001b[0;34m]\u001b[0m\u001b[0;34m\u001b[0m\u001b[0;34m\u001b[0m\u001b[0m\n\u001b[1;32m    300\u001b[0m \u001b[0;34m\u001b[0m\u001b[0m\n\u001b[0;32m--> 301\u001b[0;31m         \u001b[0mix\u001b[0m \u001b[0;34m=\u001b[0m \u001b[0mself\u001b[0m\u001b[0;34m.\u001b[0m\u001b[0mdata_index\u001b[0m\u001b[0;34m[\u001b[0m\u001b[0mslicer\u001b[0m\u001b[0;34m]\u001b[0m\u001b[0;34m.\u001b[0m\u001b[0m_format_native_types\u001b[0m\u001b[0;34m(\u001b[0m\u001b[0;34m**\u001b[0m\u001b[0mself\u001b[0m\u001b[0;34m.\u001b[0m\u001b[0m_number_format\u001b[0m\u001b[0;34m)\u001b[0m\u001b[0;34m\u001b[0m\u001b[0;34m\u001b[0m\u001b[0m\n\u001b[0m\u001b[1;32m    302\u001b[0m         \u001b[0mlibwriters\u001b[0m\u001b[0;34m.\u001b[0m\u001b[0mwrite_csv_rows\u001b[0m\u001b[0;34m(\u001b[0m\u001b[0mdata\u001b[0m\u001b[0;34m,\u001b[0m \u001b[0mix\u001b[0m\u001b[0;34m,\u001b[0m \u001b[0mself\u001b[0m\u001b[0;34m.\u001b[0m\u001b[0mnlevels\u001b[0m\u001b[0;34m,\u001b[0m \u001b[0mself\u001b[0m\u001b[0;34m.\u001b[0m\u001b[0mcols\u001b[0m\u001b[0;34m,\u001b[0m \u001b[0mself\u001b[0m\u001b[0;34m.\u001b[0m\u001b[0mwriter\u001b[0m\u001b[0;34m)\u001b[0m\u001b[0;34m\u001b[0m\u001b[0;34m\u001b[0m\u001b[0m\n",
      "\u001b[0;32m~/opt/miniconda3/envs/525/lib/python3.8/site-packages/pandas/core/indexes/multi.py\u001b[0m in \u001b[0;36m_format_native_types\u001b[0;34m(self, na_rep, **kwargs)\u001b[0m\n\u001b[1;32m   1287\u001b[0m         \u001b[0;31m# go through the levels and format them\u001b[0m\u001b[0;34m\u001b[0m\u001b[0;34m\u001b[0m\u001b[0;34m\u001b[0m\u001b[0m\n\u001b[1;32m   1288\u001b[0m         \u001b[0;32mfor\u001b[0m \u001b[0mlevel\u001b[0m\u001b[0;34m,\u001b[0m \u001b[0mlevel_codes\u001b[0m \u001b[0;32min\u001b[0m \u001b[0mzip\u001b[0m\u001b[0;34m(\u001b[0m\u001b[0mself\u001b[0m\u001b[0;34m.\u001b[0m\u001b[0mlevels\u001b[0m\u001b[0;34m,\u001b[0m \u001b[0mself\u001b[0m\u001b[0;34m.\u001b[0m\u001b[0mcodes\u001b[0m\u001b[0;34m)\u001b[0m\u001b[0;34m:\u001b[0m\u001b[0;34m\u001b[0m\u001b[0;34m\u001b[0m\u001b[0m\n\u001b[0;32m-> 1289\u001b[0;31m             \u001b[0mlevel_strs\u001b[0m \u001b[0;34m=\u001b[0m \u001b[0mlevel\u001b[0m\u001b[0;34m.\u001b[0m\u001b[0m_format_native_types\u001b[0m\u001b[0;34m(\u001b[0m\u001b[0mna_rep\u001b[0m\u001b[0;34m=\u001b[0m\u001b[0mna_rep\u001b[0m\u001b[0;34m,\u001b[0m \u001b[0;34m**\u001b[0m\u001b[0mkwargs\u001b[0m\u001b[0;34m)\u001b[0m\u001b[0;34m\u001b[0m\u001b[0;34m\u001b[0m\u001b[0m\n\u001b[0m\u001b[1;32m   1290\u001b[0m             \u001b[0;31m# add nan values, if there are any\u001b[0m\u001b[0;34m\u001b[0m\u001b[0;34m\u001b[0m\u001b[0;34m\u001b[0m\u001b[0m\n\u001b[1;32m   1291\u001b[0m             \u001b[0mmask\u001b[0m \u001b[0;34m=\u001b[0m \u001b[0mlevel_codes\u001b[0m \u001b[0;34m==\u001b[0m \u001b[0;34m-\u001b[0m\u001b[0;36m1\u001b[0m\u001b[0;34m\u001b[0m\u001b[0;34m\u001b[0m\u001b[0m\n",
      "\u001b[0;32m~/opt/miniconda3/envs/525/lib/python3.8/site-packages/pandas/core/indexes/base.py\u001b[0m in \u001b[0;36m_format_native_types\u001b[0;34m(self, na_rep, quoting, **kwargs)\u001b[0m\n\u001b[1;32m   1045\u001b[0m         \u001b[0mmask\u001b[0m \u001b[0;34m=\u001b[0m \u001b[0misna\u001b[0m\u001b[0;34m(\u001b[0m\u001b[0mself\u001b[0m\u001b[0;34m)\u001b[0m\u001b[0;34m\u001b[0m\u001b[0;34m\u001b[0m\u001b[0m\n\u001b[1;32m   1046\u001b[0m         \u001b[0;32mif\u001b[0m \u001b[0;32mnot\u001b[0m \u001b[0mself\u001b[0m\u001b[0;34m.\u001b[0m\u001b[0mis_object\u001b[0m\u001b[0;34m(\u001b[0m\u001b[0;34m)\u001b[0m \u001b[0;32mand\u001b[0m \u001b[0;32mnot\u001b[0m \u001b[0mquoting\u001b[0m\u001b[0;34m:\u001b[0m\u001b[0;34m\u001b[0m\u001b[0;34m\u001b[0m\u001b[0m\n\u001b[0;32m-> 1047\u001b[0;31m             \u001b[0mvalues\u001b[0m \u001b[0;34m=\u001b[0m \u001b[0mnp\u001b[0m\u001b[0;34m.\u001b[0m\u001b[0masarray\u001b[0m\u001b[0;34m(\u001b[0m\u001b[0mself\u001b[0m\u001b[0;34m)\u001b[0m\u001b[0;34m.\u001b[0m\u001b[0mastype\u001b[0m\u001b[0;34m(\u001b[0m\u001b[0mstr\u001b[0m\u001b[0;34m)\u001b[0m\u001b[0;34m\u001b[0m\u001b[0;34m\u001b[0m\u001b[0m\n\u001b[0m\u001b[1;32m   1048\u001b[0m         \u001b[0;32melse\u001b[0m\u001b[0;34m:\u001b[0m\u001b[0;34m\u001b[0m\u001b[0;34m\u001b[0m\u001b[0m\n\u001b[1;32m   1049\u001b[0m             \u001b[0mvalues\u001b[0m \u001b[0;34m=\u001b[0m \u001b[0mnp\u001b[0m\u001b[0;34m.\u001b[0m\u001b[0marray\u001b[0m\u001b[0;34m(\u001b[0m\u001b[0mself\u001b[0m\u001b[0;34m,\u001b[0m \u001b[0mdtype\u001b[0m\u001b[0;34m=\u001b[0m\u001b[0mobject\u001b[0m\u001b[0;34m,\u001b[0m \u001b[0mcopy\u001b[0m\u001b[0;34m=\u001b[0m\u001b[0;32mTrue\u001b[0m\u001b[0;34m)\u001b[0m\u001b[0;34m\u001b[0m\u001b[0;34m\u001b[0m\u001b[0m\n",
      "\u001b[0;31mKeyboardInterrupt\u001b[0m: "
     ]
    }
   ],
   "source": [
    "df.to_csv('combined.csv')"
   ]
  },
  {
   "cell_type": "markdown",
   "id": "60f32f27",
   "metadata": {},
   "source": [
    "<a id='3'/>\n",
    "\n",
    "### 3. Load the combined CSV to memory and perform a simple EDA"
   ]
  },
  {
   "cell_type": "markdown",
   "id": "4632ef9e",
   "metadata": {},
   "source": [
    "##### 1. Investigate at least two of the following approaches to reduce memory usage while performing the EDA (e.g., value_counts).\n",
    "- Changing dtype of your data\n",
    "- Load just columns what we want\n",
    "- Loading in chunks\n",
    "- Dask\n",
    "\n",
    "##### 2. Discuss your observations."
   ]
  },
  {
   "cell_type": "markdown",
   "id": "3efac258",
   "metadata": {},
   "source": [
    "<a id='4'/>\n",
    "\n",
    "\n",
    "### 4. Perform a simple EDA in R"
   ]
  },
  {
   "cell_type": "markdown",
   "id": "cbcd2b1e",
   "metadata": {},
   "source": [
    "1. [Pick an approach to transfer the dataframe from python to R.](#transfer_data)\n",
    "    - [Parquet file](#transfer_parquet)\n",
    "    - [Feather file](#transfer_feather)\n",
    "    - [Pandas exchange](#transfer-pandas)\n",
    "    - [Arrow exchange](#transfer-arrow)\n",
    "2. [Discuss why you chose this approach over others.](#4-discussion)"
   ]
  },
  {
   "cell_type": "markdown",
   "id": "066c23f1",
   "metadata": {},
   "source": [
    "##### Pandas format"
   ]
  },
  {
   "cell_type": "code",
   "execution_count": 4,
   "id": "28153d88",
   "metadata": {},
   "outputs": [
    {
     "name": "stdout",
     "output_type": "stream",
     "text": [
      "peak memory: 412.40 MiB, increment: 136.86 MiB\n",
      "Wall time: 1.7 s\n"
     ]
    }
   ],
   "source": [
    "%%time\n",
    "%%memit\n",
    "df = pd.read_csv(\"combined.csv\", nrows=1_000_000)"
   ]
  },
  {
   "cell_type": "markdown",
   "id": "195b8b18",
   "metadata": {},
   "source": [
    "##### Arrow format"
   ]
  },
  {
   "cell_type": "code",
   "execution_count": 8,
   "id": "cf9fdc5c",
   "metadata": {},
   "outputs": [
    {
     "name": "stdout",
     "output_type": "stream",
     "text": [
      "peak memory: 4552.66 MiB, increment: 4181.79 MiB\n",
      "Wall time: 36.5 s\n"
     ]
    }
   ],
   "source": [
    "%%time\n",
    "%%memit\n",
    "dataset = ds.dataset(\"combined.csv\", format=\"csv\")\n",
    "table = dataset.to_table()"
   ]
  },
  {
   "cell_type": "markdown",
   "id": "7383b9c0",
   "metadata": {},
   "source": [
    "##### Feather format"
   ]
  },
  {
   "cell_type": "code",
   "execution_count": 9,
   "id": "cc2622d0",
   "metadata": {},
   "outputs": [
    {
     "name": "stdout",
     "output_type": "stream",
     "text": [
      "peak memory: 4566.12 MiB, increment: 13.46 MiB\n",
      "Wall time: 4.93 s\n"
     ]
    }
   ],
   "source": [
    "%%time\n",
    "%%memit\n",
    "feather.write_feather(table, 'combined.feather')"
   ]
  },
  {
   "cell_type": "markdown",
   "id": "f5c90f12",
   "metadata": {},
   "source": [
    "##### Parquet format"
   ]
  },
  {
   "cell_type": "code",
   "execution_count": 10,
   "id": "0585786e",
   "metadata": {},
   "outputs": [
    {
     "name": "stdout",
     "output_type": "stream",
     "text": [
      "peak memory: 4708.31 MiB, increment: 142.86 MiB\n",
      "Wall time: 16.5 s\n"
     ]
    }
   ],
   "source": [
    "%%time\n",
    "%%memit\n",
    "pq.write_table(table, 'combined.parquet')"
   ]
  },
  {
   "cell_type": "code",
   "execution_count": 11,
   "id": "3dfd2e63",
   "metadata": {},
   "outputs": [
    {
     "name": "stdout",
     "output_type": "stream",
     "text": [
      "6.0G\tcombined.csv\n",
      "1.1G\tcombined.feather\n",
      "542M\tcombined.parquet\n"
     ]
    }
   ],
   "source": [
    "%%sh\n",
    "# csv data\n",
    "du -sh combined.csv\n",
    "\n",
    "# feather data\n",
    "du -sh combined.feather\n",
    "\n",
    "# parquet data\n",
    "du -sh combined.parquet"
   ]
  },
  {
   "cell_type": "markdown",
   "id": "50406227",
   "metadata": {},
   "source": [
    "<a id='transfer_data'/>\n",
    "\n",
    "#### 1. Transfer the dataframe from python to R and perform EDA"
   ]
  },
  {
   "cell_type": "code",
   "execution_count": 13,
   "id": "077c80f3",
   "metadata": {},
   "outputs": [],
   "source": [
    "%%R\n",
    "library(dplyr)\n",
    "library(arrow)"
   ]
  },
  {
   "cell_type": "markdown",
   "id": "186e82bd",
   "metadata": {},
   "source": [
    "<a id='transfer-pandas'/>\n",
    "\n",
    "##### 1. Pandas"
   ]
  },
  {
   "cell_type": "code",
   "execution_count": 14,
   "id": "7f09f295",
   "metadata": {},
   "outputs": [
    {
     "name": "stdout",
     "output_type": "stream",
     "text": [
      "[1] \"data.frame\"\n",
      "     time              lat_min          lat_max          lon_min     \n",
      " Length:1000000     Min.   :-36.25   Min.   :-35.00   Min.   :140.6  \n",
      " Class :character   1st Qu.:-36.25   1st Qu.:-35.00   1st Qu.:142.5  \n",
      " Mode  :character   Median :-35.00   Median :-33.75   Median :146.2  \n",
      "                    Mean   :-34.92   Mean   :-33.67   Mean   :146.1  \n",
      "                    3rd Qu.:-33.75   3rd Qu.:-32.50   3rd Qu.:150.0  \n",
      "                    Max.   :-32.50   Max.   :-31.25   Max.   :151.9  \n",
      "    lon_max      rain (mm/day)         model          \n",
      " Min.   :142.5   Min.   :  0.0000   Length:1000000    \n",
      " 1st Qu.:144.4   1st Qu.:  0.0082   Class :character  \n",
      " Median :148.1   Median :  0.1190   Mode  :character  \n",
      " Mean   :147.9   Mean   :  1.7961                     \n",
      " 3rd Qu.:151.9   3rd Qu.:  0.8148                     \n",
      " Max.   :153.8   Max.   :432.9395                     \n",
      "Time difference of 0.2850361 secs\n",
      "Wall time: 46.2 s\n"
     ]
    }
   ],
   "source": [
    "%%time\n",
    "%%R -i df\n",
    "\n",
    "start_time <- Sys.time()\n",
    "print(class(df))\n",
    "result <- df %>% collect() %>% summary()\n",
    "end_time <- Sys.time()\n",
    "print(result)\n",
    "print(end_time - start_time)"
   ]
  },
  {
   "cell_type": "markdown",
   "id": "a544f85a",
   "metadata": {},
   "source": [
    "<a id='transfer-arrow'/>\n",
    "\n",
    "##### 2. Arrow"
   ]
  },
  {
   "cell_type": "code",
   "execution_count": 15,
   "id": "d60c4dfe",
   "metadata": {},
   "outputs": [
    {
     "name": "stdout",
     "output_type": "stream",
     "text": [
      "6052\n",
      "rarrow.ChunkedArray: 0.0380098819732666\n",
      "6052\n",
      "rarrow.ChunkedArray: 0.028034687042236328\n",
      "6052\n",
      "rarrow.ChunkedArray: 0.03199338912963867\n",
      "6052\n",
      "rarrow.ChunkedArray: 0.048981428146362305\n",
      "6052\n",
      "rarrow.ChunkedArray: 0.0460052490234375\n",
      "6052\n",
      "rarrow.ChunkedArray: 0.029996156692504883\n",
      "6052\n",
      "rarrow.ChunkedArray: 0.030958175659179688\n"
     ]
    }
   ],
   "source": [
    "r_table = pyra.converter.py2rpy(table)"
   ]
  },
  {
   "cell_type": "code",
   "execution_count": 16,
   "id": "cf70f639",
   "metadata": {},
   "outputs": [
    {
     "name": "stdout",
     "output_type": "stream",
     "text": [
      "[1] \"Table\"       \"ArrowObject\" \"R6\"         \n",
      "[1] \"tbl_df\"     \"tbl\"        \"data.frame\"\n",
      "      time                        lat_min           lat_max      \n",
      " Min.   :1889-01-01 08:06:00   Min.   :-36       Min.   :-36.00  \n",
      " 1st Qu.:1920-07-02 20:00:00   1st Qu.:-35       1st Qu.:-33.66  \n",
      " Median :1952-01-01 20:00:00   Median :-33       Median :-32.04  \n",
      " Mean   :1952-01-02 00:32:09   Mean   :-33       Mean   :-31.98  \n",
      " 3rd Qu.:1983-07-02 20:00:00   3rd Qu.:-31       3rd Qu.:-30.16  \n",
      " Max.   :2014-12-31 20:00:00   Max.   :-30       Max.   :-27.91  \n",
      "                               NA's   :3219300                   \n",
      "    lon_min           lon_max      rain (mm/day)        model          \n",
      " Min.   :141       Min.   :141.2   Min.   :  0       Length:62467843   \n",
      " 1st Qu.:143       1st Qu.:145.0   1st Qu.:  0       Class :character  \n",
      " Median :147       Median :148.1   Median :  0       Mode  :character  \n",
      " Mean   :147       Mean   :148.2   Mean   :  2                         \n",
      " 3rd Qu.:150       3rd Qu.:151.3   3rd Qu.:  1                         \n",
      " Max.   :154       Max.   :155.6   Max.   :433                         \n",
      " NA's   :3219300                   NA's   :3219300                     \n",
      "Time difference of 36.8867 secs\n",
      "Wall time: 37 s\n"
     ]
    }
   ],
   "source": [
    "%%time\n",
    "%%R -i r_table\n",
    "\n",
    "start_time <- Sys.time()\n",
    "print(class(r_table))\n",
    "result <- r_table %>% collect() %>% summary()\n",
    "print(class(r_table %>% collect()))\n",
    "end_time <- Sys.time()\n",
    "print(result)\n",
    "print(end_time - start_time)"
   ]
  },
  {
   "cell_type": "markdown",
   "id": "8d869aac",
   "metadata": {},
   "source": [
    "<a id='transfer_feather'/>\n",
    "\n",
    "##### 3. Feather format"
   ]
  },
  {
   "cell_type": "code",
   "execution_count": null,
   "id": "8b509cdd",
   "metadata": {},
   "outputs": [],
   "source": [
    "# %%time\n",
    "# %%R\n",
    "# start_time <- Sys.time()\n",
    "# r_table <- arrow::read_feather(\"combined.feather\")\n",
    "# print(class(r_table))\n",
    "# result <- r_table %>% summary()\n",
    "# end_time <- Sys.time()\n",
    "# print(result)\n",
    "# print(end_time - start_time)"
   ]
  },
  {
   "cell_type": "markdown",
   "id": "3864d6fb",
   "metadata": {},
   "source": [
    "<a id='transfer_parquet'/>\n",
    "\n",
    "##### 4. Parquet format"
   ]
  },
  {
   "cell_type": "code",
   "execution_count": 5,
   "id": "96feb97f",
   "metadata": {},
   "outputs": [
    {
     "name": "stdout",
     "output_type": "stream",
     "text": [
      "[1] \"tbl_df\"     \"tbl\"        \"data.frame\"\n"
     ]
    },
    {
     "name": "stderr",
     "output_type": "stream",
     "text": [
      "R[write to console]: \n",
      "Attaching package: 'dplyr'\n",
      "\n",
      "\n",
      "R[write to console]: The following objects are masked from 'package:stats':\n",
      "\n",
      "    filter, lag\n",
      "\n",
      "\n",
      "R[write to console]: The following objects are masked from 'package:base':\n",
      "\n",
      "    intersect, setdiff, setequal, union\n",
      "\n",
      "\n"
     ]
    },
    {
     "name": "stdout",
     "output_type": "stream",
     "text": [
      "      time                        lat_min           lat_max      \n",
      " Min.   :1889-01-01 08:06:00   Min.   :-36       Min.   :-36.00  \n",
      " 1st Qu.:1920-07-02 20:00:00   1st Qu.:-35       1st Qu.:-33.66  \n",
      " Median :1952-01-01 20:00:00   Median :-33       Median :-32.04  \n",
      " Mean   :1952-01-02 00:32:09   Mean   :-33       Mean   :-31.98  \n",
      " 3rd Qu.:1983-07-02 20:00:00   3rd Qu.:-31       3rd Qu.:-30.16  \n",
      " Max.   :2014-12-31 20:00:00   Max.   :-30       Max.   :-27.91  \n",
      "                               NA's   :3219300                   \n",
      "    lon_min           lon_max      rain (mm/day)        model          \n",
      " Min.   :141       Min.   :141.2   Min.   :  0       Length:62467843   \n",
      " 1st Qu.:143       1st Qu.:145.0   1st Qu.:  0       Class :character  \n",
      " Median :147       Median :148.1   Median :  0       Mode  :character  \n",
      " Mean   :147       Mean   :148.2   Mean   :  2                         \n",
      " 3rd Qu.:150       3rd Qu.:151.3   3rd Qu.:  1                         \n",
      " Max.   :154       Max.   :155.6   Max.   :433                         \n",
      " NA's   :3219300                   NA's   :3219300                     \n",
      "Time difference of 43.91868 secs\n",
      "Wall time: 44.1 s\n"
     ]
    }
   ],
   "source": [
    "%%time\n",
    "%%R\n",
    "\n",
    "start_time <- Sys.time()\n",
    "r_table <- arrow::read_parquet(\"combined.parquet\")\n",
    "print(class(r_table))\n",
    "library(dplyr)\n",
    "result <- r_table %>% summary()\n",
    "end_time <- Sys.time()\n",
    "print(result)\n",
    "print(end_time - start_time)"
   ]
  },
  {
   "cell_type": "markdown",
   "id": "96047fc6",
   "metadata": {},
   "source": [
    "<a id='4-discussion'/>\n",
    "\n",
    "#### 2. Discussion"
   ]
  },
  {
   "cell_type": "markdown",
   "id": "d02a9985",
   "metadata": {},
   "source": [
    "From above results, our group would choose parquet format to transfer the dataframe from python to R. First, the file size of our combined data is 542M with parquet format, which is much smaller than the file sizes with csv (6.0G) and feather (1.1G) format. Second, the wall time for parquet format is shorter than the wall time for feather format. The wall time for csv is a little bit shorter than the wall time for parquet. However, consider both the file size and speed, it would be better and reasonable to choose parquet format to transfer the dataframe from python to R."
   ]
  },
  {
   "cell_type": "markdown",
   "id": "1dab83a9",
   "metadata": {},
   "source": [
    "##### More simpe EDA with Parquet format"
   ]
  },
  {
   "cell_type": "code",
   "execution_count": 6,
   "id": "c602aead",
   "metadata": {},
   "outputs": [
    {
     "name": "stdout",
     "output_type": "stream",
     "text": [
      "[1] \"tbl_df\"     \"tbl\"        \"data.frame\"\n",
      "Wall time: 9.31 s\n"
     ]
    }
   ],
   "source": [
    "%%time\n",
    "%%R\n",
    "r_table <- arrow::read_parquet(\"combined.parquet\")\n",
    "class(r_table)"
   ]
  },
  {
   "cell_type": "code",
   "execution_count": 7,
   "id": "829ccefe",
   "metadata": {},
   "outputs": [
    {
     "name": "stdout",
     "output_type": "stream",
     "text": [
      "\u001b[38;5;246m# A tibble: 6 x 7\u001b[39m\n",
      "  time                lat_min lat_max lon_min lon_max `rain (mm/day)` model     \n",
      "  \u001b[3m\u001b[38;5;246m<dttm>\u001b[39m\u001b[23m                \u001b[3m\u001b[38;5;246m<dbl>\u001b[39m\u001b[23m   \u001b[3m\u001b[38;5;246m<dbl>\u001b[39m\u001b[23m   \u001b[3m\u001b[38;5;246m<dbl>\u001b[39m\u001b[23m   \u001b[3m\u001b[38;5;246m<dbl>\u001b[39m\u001b[23m           \u001b[3m\u001b[38;5;246m<dbl>\u001b[39m\u001b[23m \u001b[3m\u001b[38;5;246m<chr>\u001b[39m\u001b[23m     \n",
      "\u001b[38;5;250m1\u001b[39m 1889-01-01 \u001b[38;5;246m20:06:00\u001b[39m   -\u001b[31m36\u001b[39m\u001b[31m.\u001b[39m\u001b[31m2\u001b[39m     -\u001b[31m35\u001b[39m    141.    142.        3.29\u001b[38;5;246me\u001b[39m\u001b[31m-13\u001b[39m \u001b[38;5;246m\"\u001b[39mdata\\\\AC~\n",
      "\u001b[38;5;250m2\u001b[39m 1889-01-02 \u001b[38;5;246m20:06:00\u001b[39m   -\u001b[31m36\u001b[39m\u001b[31m.\u001b[39m\u001b[31m2\u001b[39m     -\u001b[31m35\u001b[39m    141.    142.        0.  \u001b[38;5;246m \u001b[39m    \u001b[38;5;246m\"\u001b[39mdata\\\\AC~\n",
      "\u001b[38;5;250m3\u001b[39m 1889-01-03 \u001b[38;5;246m20:06:00\u001b[39m   -\u001b[31m36\u001b[39m\u001b[31m.\u001b[39m\u001b[31m2\u001b[39m     -\u001b[31m35\u001b[39m    141.    142.        0.  \u001b[38;5;246m \u001b[39m    \u001b[38;5;246m\"\u001b[39mdata\\\\AC~\n",
      "\u001b[38;5;250m4\u001b[39m 1889-01-04 \u001b[38;5;246m20:06:00\u001b[39m   -\u001b[31m36\u001b[39m\u001b[31m.\u001b[39m\u001b[31m2\u001b[39m     -\u001b[31m35\u001b[39m    141.    142.        0.  \u001b[38;5;246m \u001b[39m    \u001b[38;5;246m\"\u001b[39mdata\\\\AC~\n",
      "\u001b[38;5;250m5\u001b[39m 1889-01-05 \u001b[38;5;246m20:06:00\u001b[39m   -\u001b[31m36\u001b[39m\u001b[31m.\u001b[39m\u001b[31m2\u001b[39m     -\u001b[31m35\u001b[39m    141.    142.        1.05\u001b[38;5;246me\u001b[39m\u001b[31m- 2\u001b[39m \u001b[38;5;246m\"\u001b[39mdata\\\\AC~\n",
      "\u001b[38;5;250m6\u001b[39m 1889-01-06 \u001b[38;5;246m20:06:00\u001b[39m   -\u001b[31m36\u001b[39m\u001b[31m.\u001b[39m\u001b[31m2\u001b[39m     -\u001b[31m35\u001b[39m    141.    142.        3.29\u001b[38;5;246me\u001b[39m\u001b[31m- 2\u001b[39m \u001b[38;5;246m\"\u001b[39mdata\\\\AC~\n",
      "Wall time: 3.17 s\n"
     ]
    }
   ],
   "source": [
    "%%time\n",
    "%%R\n",
    "head(r_table)"
   ]
  },
  {
   "cell_type": "code",
   "execution_count": 8,
   "id": "1a3eafb3",
   "metadata": {},
   "outputs": [
    {
     "name": "stdout",
     "output_type": "stream",
     "text": [
      "\u001b[38;5;246m# A tibble: 6 x 7\u001b[39m\n",
      "  time                lat_min lat_max lon_min lon_max `rain (mm/day)` model     \n",
      "  \u001b[3m\u001b[38;5;246m<dttm>\u001b[39m\u001b[23m                \u001b[3m\u001b[38;5;246m<dbl>\u001b[39m\u001b[23m   \u001b[3m\u001b[38;5;246m<dbl>\u001b[39m\u001b[23m   \u001b[3m\u001b[38;5;246m<dbl>\u001b[39m\u001b[23m   \u001b[3m\u001b[38;5;246m<dbl>\u001b[39m\u001b[23m           \u001b[3m\u001b[38;5;246m<dbl>\u001b[39m\u001b[23m \u001b[3m\u001b[38;5;246m<chr>\u001b[39m\u001b[23m     \n",
      "\u001b[38;5;250m1\u001b[39m 2014-12-26 \u001b[38;5;246m20:00:00\u001b[39m   -\u001b[31m30\u001b[39m\u001b[31m.\u001b[39m\u001b[31m2\u001b[39m   -\u001b[31m29\u001b[39m\u001b[31m.\u001b[39m\u001b[31m2\u001b[39m    153.    154.           0.435 \u001b[38;5;246m\"\u001b[39mdata\\\\Ta~\n",
      "\u001b[38;5;250m2\u001b[39m 2014-12-27 \u001b[38;5;246m20:00:00\u001b[39m   -\u001b[31m30\u001b[39m\u001b[31m.\u001b[39m\u001b[31m2\u001b[39m   -\u001b[31m29\u001b[39m\u001b[31m.\u001b[39m\u001b[31m2\u001b[39m    153.    154.           0.554 \u001b[38;5;246m\"\u001b[39mdata\\\\Ta~\n",
      "\u001b[38;5;250m3\u001b[39m 2014-12-28 \u001b[38;5;246m20:00:00\u001b[39m   -\u001b[31m30\u001b[39m\u001b[31m.\u001b[39m\u001b[31m2\u001b[39m   -\u001b[31m29\u001b[39m\u001b[31m.\u001b[39m\u001b[31m2\u001b[39m    153.    154.           7.03  \u001b[38;5;246m\"\u001b[39mdata\\\\Ta~\n",
      "\u001b[38;5;250m4\u001b[39m 2014-12-29 \u001b[38;5;246m20:00:00\u001b[39m   -\u001b[31m30\u001b[39m\u001b[31m.\u001b[39m\u001b[31m2\u001b[39m   -\u001b[31m29\u001b[39m\u001b[31m.\u001b[39m\u001b[31m2\u001b[39m    153.    154.           0.235 \u001b[38;5;246m\"\u001b[39mdata\\\\Ta~\n",
      "\u001b[38;5;250m5\u001b[39m 2014-12-30 \u001b[38;5;246m20:00:00\u001b[39m   -\u001b[31m30\u001b[39m\u001b[31m.\u001b[39m\u001b[31m2\u001b[39m   -\u001b[31m29\u001b[39m\u001b[31m.\u001b[39m\u001b[31m2\u001b[39m    153.    154.           2.10  \u001b[38;5;246m\"\u001b[39mdata\\\\Ta~\n",
      "\u001b[38;5;250m6\u001b[39m 2014-12-31 \u001b[38;5;246m20:00:00\u001b[39m   -\u001b[31m30\u001b[39m\u001b[31m.\u001b[39m\u001b[31m2\u001b[39m   -\u001b[31m29\u001b[39m\u001b[31m.\u001b[39m\u001b[31m2\u001b[39m    153.    154.           0.548 \u001b[38;5;246m\"\u001b[39mdata\\\\Ta~\n",
      "Wall time: 501 ms\n"
     ]
    }
   ],
   "source": [
    "%%time\n",
    "%%R\n",
    "tail(r_table)"
   ]
  },
  {
   "cell_type": "markdown",
   "id": "e1191203",
   "metadata": {},
   "source": [
    "### Reflection"
   ]
  },
  {
   "cell_type": "markdown",
   "id": "c1a86058",
   "metadata": {},
   "source": [
    "- Challenges with downloading the data\n",
    "    - It takes really long time to download the large size of data because of the internet connection. I fail to download the data with my own VPN. I successfully download the data by using UBC VPN\n",
    "    \n",
    "- Challenges with performing a simple EDA in R\n",
    "    - It takes really long time to transfer dataframe from python to R with feather format. Like more than an hour. I try to restart PC and Jupyter Lab but doesn't work. I comment the code cell for feather format and get the conclusion that it takes longer time than the other formats."
   ]
  }
 ],
 "metadata": {
  "kernelspec": {
   "display_name": "525",
   "language": "python",
   "name": "525"
  },
  "language_info": {
   "codemirror_mode": {
    "name": "ipython",
    "version": 3
   },
   "file_extension": ".py",
   "mimetype": "text/x-python",
   "name": "python",
   "nbconvert_exporter": "python",
   "pygments_lexer": "ipython3",
   "version": "3.8.6"
  }
 },
 "nbformat": 4,
 "nbformat_minor": 5
}
