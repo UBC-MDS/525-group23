{
 "cells": [
  {
   "cell_type": "markdown",
   "id": "1051e185",
   "metadata": {},
   "source": [
    "# DSCI 525 - Web and Cloud Computing"
   ]
  },
  {
   "cell_type": "markdown",
   "id": "6c971d4d",
   "metadata": {},
   "source": [
    "## Milestone 1: Tackling big data on your laptop"
   ]
  },
  {
   "cell_type": "markdown",
   "id": "3f367eb0",
   "metadata": {},
   "source": [
    "### Content:\n",
    "\n",
    "1. [Downloading the data](#1)\n",
    "2. [Combining data CSVs](#2)\n",
    "3. [Load the combined CSV to memory and perform a simple EDA](#3)\n",
    "4. [Perform a simple EDA in R](#4)"
   ]
  },
  {
   "cell_type": "code",
   "execution_count": 19,
   "id": "5fecf88c",
   "metadata": {},
   "outputs": [],
   "source": [
    "# Most of the code is adapted from lecture notes"
   ]
  },
  {
   "cell_type": "code",
   "execution_count": 1,
   "id": "d2aaadd2",
   "metadata": {},
   "outputs": [],
   "source": [
    "import re\n",
    "import os\n",
    "import glob\n",
    "import zipfile\n",
    "import requests\n",
    "from urllib.request import urlretrieve\n",
    "import json\n",
    "import pandas as pd\n",
    "from memory_profiler import memory_usage\n",
    "import numpy as np\n",
    "import dask.dataframe as dd\n",
    "\n",
    "import pyarrow.dataset as ds\n",
    "import rpy2_arrow.pyarrow_rarrow as pyra\n",
    "import pyarrow.feather as feather\n",
    "import pyarrow.parquet as pq"
   ]
  },
  {
   "cell_type": "code",
   "execution_count": 2,
   "id": "6351484a",
   "metadata": {},
   "outputs": [],
   "source": [
    "# %load_ext rpy2.ipython\n",
    "%load_ext memory_profiler"
   ]
  },
  {
   "cell_type": "markdown",
   "id": "e4f297d5",
   "metadata": {},
   "source": [
    "<a id='1'/>\n",
    "\n",
    "### 1. Downloading the data\n",
    "\n",
    "1. [Download the data from figshare to your local computer using the figshare API (you can make use of requests library).](#download_data)\n",
    "2. [Extract the zip file, again programmatically, similar to how we did it in class.](#extract_zip)\n",
    "\n"
   ]
  },
  {
   "cell_type": "code",
   "execution_count": 3,
   "id": "4e9f40d3",
   "metadata": {},
   "outputs": [],
   "source": [
    "# add metadata\n",
    "article_id = 14096681  # this is the unique identifier of the article on figshare\n",
    "url = f\"https://api.figshare.com/v2/articles/{article_id}\"\n",
    "headers = {\"Content-Type\": \"application/json\"}\n",
    "output_directory = \"data/\""
   ]
  },
  {
   "cell_type": "code",
   "execution_count": 4,
   "id": "01bf22a4",
   "metadata": {},
   "outputs": [],
   "source": [
    "# define \n",
    "response = requests.request(\"GET\", url, headers=headers)\n",
    "data = json.loads(response.text)  # this contains all the articles data\n",
    "files = data[\"files\"]             # this is just the data about the files, which is what we want"
   ]
  },
  {
   "cell_type": "code",
   "execution_count": 5,
   "id": "3a273b72",
   "metadata": {},
   "outputs": [],
   "source": [
    "# create directory if doesn't exist\n",
    "os.makedirs(output_directory, exist_ok=True)"
   ]
  },
  {
   "cell_type": "markdown",
   "id": "5040ae5f",
   "metadata": {},
   "source": [
    "<a id='download_data'/>\n",
    "\n",
    "#### 1. Download the data from figshare"
   ]
  },
  {
   "cell_type": "code",
   "execution_count": 59,
   "id": "b53ceba7",
   "metadata": {},
   "outputs": [],
   "source": [
    "%%time\n",
    "%%memit\n",
    "\n",
    "# download data using the API\n",
    "files_to_dl = [\"data.zip\"]\n",
    "for file in files:\n",
    "    if file[\"name\"] in files_to_dl:       \n",
    "        urlretrieve(file[\"download_url\"], output_directory + file[\"name\"])"
   ]
  },
  {
   "cell_type": "markdown",
   "id": "7443e08b",
   "metadata": {},
   "source": [
    "<a id='extract_zip'/>\n",
    "\n",
    "#### 2.Extract the zip file"
   ]
  },
  {
   "cell_type": "code",
   "execution_count": 15,
   "id": "c7a6ab35",
   "metadata": {},
   "outputs": [
    {
     "name": "stdout",
     "output_type": "stream",
     "text": [
      "peak memory: 295.71 MiB, increment: 0.14 MiB\n",
      "CPU times: user 17.4 s, sys: 2.33 s, total: 19.7 s\n",
      "Wall time: 22.5 s\n"
     ]
    }
   ],
   "source": [
    "%%time\n",
    "%%memit      \n",
    "\n",
    "# unzip the files\n",
    "with zipfile.ZipFile(os.path.join(output_directory, \"data.zip\"), 'r') as f:\n",
    "    f.extractall(output_directory)\n"
   ]
  },
  {
   "cell_type": "markdown",
   "id": "d2cfc04b",
   "metadata": {},
   "source": [
    "<a id='2'/>\n",
    "\n",
    "### 2. Combining data CSVs"
   ]
  },
  {
   "cell_type": "markdown",
   "id": "5c732935",
   "metadata": {},
   "source": [
    "1. [Use one of the following options to combine data CSVs into a single CSV.](#combine_csv)\n",
    "    - Pandas (we chose this)\n",
    "    - DASK\n",
    "2. When combining the csv files make sure to add extra column called \"model\" that identifies the model.\n",
    "3. Compare run times and memory usages of these options on different machines within your team, and summarize your observations in your milestone notebook.\n",
    "\n",
    "    - Run times for combining CSV files for all team members (in alphabetical order):\n",
    "        - **Fatime**\n",
    "             - peak memory: 9823.55 MiB, increment: 9558.20 MiB\n",
    "             - CPU times: user 1min 3s, sys: 12.5 s, total: 1min 16s\n",
    "             - Wall time: 1min 25s\n",
    "        - **Jingjing**\n",
    "             - peak memory: 431.68 MiB, increment: 0.25 MiB\n",
    "             - CPU times: user 5min 40s, sys: 23.9 s, total: 5min 46s\n",
    "             - Wall time: 6min 27s  "
   ]
  },
  {
   "cell_type": "code",
   "execution_count": 6,
   "id": "62965d4e",
   "metadata": {},
   "outputs": [],
   "source": [
    "# all csv files\n",
    "files = glob.glob(output_directory + '*.csv')\n",
    "\n",
    "# remove csvs that are formatted differently\n",
    "files = [file for file in files if \"observed\" not in file]"
   ]
  },
  {
   "cell_type": "markdown",
   "id": "c22a7314",
   "metadata": {},
   "source": [
    "<a id='combine_csv'/>   \n",
    "\n",
    "#### 1. Combine CSV files into one big CSV file"
   ]
  },
  {
   "cell_type": "code",
   "execution_count": 7,
   "id": "2fb9d748",
   "metadata": {},
   "outputs": [],
   "source": [
    "usecols = ['time', 'lat_min', 'lat_max', 'lon_min', 'lon_max', 'rain (mm/day)']"
   ]
  },
  {
   "cell_type": "code",
   "execution_count": 8,
   "id": "0aa62abc",
   "metadata": {},
   "outputs": [
    {
     "name": "stdout",
     "output_type": "stream",
     "text": [
      "peak memory: 10519.62 MiB, increment: 10255.38 MiB\n",
      "CPU times: user 1min 1s, sys: 10.2 s, total: 1min 11s\n",
      "Wall time: 1min 14s\n"
     ]
    }
   ],
   "source": [
    "%%time\n",
    "%%memit\n",
    "\n",
    "# create a dict of dataframes\n",
    "df = {file.split('_daily')[0].split('/')[1]: pd.read_csv(file, usecols=usecols) for file in files}\n",
    "\n",
    "# concatenate to one dataframe\n",
    "df = pd.concat(df, names=['model']).reset_index(level=1, drop=True)"
   ]
  },
  {
   "cell_type": "code",
   "execution_count": 9,
   "id": "e9424b59",
   "metadata": {},
   "outputs": [
    {
     "data": {
      "text/html": [
       "<div>\n",
       "<style scoped>\n",
       "    .dataframe tbody tr th:only-of-type {\n",
       "        vertical-align: middle;\n",
       "    }\n",
       "\n",
       "    .dataframe tbody tr th {\n",
       "        vertical-align: top;\n",
       "    }\n",
       "\n",
       "    .dataframe thead th {\n",
       "        text-align: right;\n",
       "    }\n",
       "</style>\n",
       "<table border=\"1\" class=\"dataframe\">\n",
       "  <thead>\n",
       "    <tr style=\"text-align: right;\">\n",
       "      <th></th>\n",
       "      <th>time</th>\n",
       "      <th>lat_min</th>\n",
       "      <th>lat_max</th>\n",
       "      <th>lon_min</th>\n",
       "      <th>lon_max</th>\n",
       "      <th>rain (mm/day)</th>\n",
       "    </tr>\n",
       "    <tr>\n",
       "      <th>model</th>\n",
       "      <th></th>\n",
       "      <th></th>\n",
       "      <th></th>\n",
       "      <th></th>\n",
       "      <th></th>\n",
       "      <th></th>\n",
       "    </tr>\n",
       "  </thead>\n",
       "  <tbody>\n",
       "    <tr>\n",
       "      <th>MPI-ESM-1-2-HAM</th>\n",
       "      <td>1889-01-01 12:00:00</td>\n",
       "      <td>-35.439867</td>\n",
       "      <td>-33.574619</td>\n",
       "      <td>141.5625</td>\n",
       "      <td>143.4375</td>\n",
       "      <td>4.244226e-13</td>\n",
       "    </tr>\n",
       "    <tr>\n",
       "      <th>MPI-ESM-1-2-HAM</th>\n",
       "      <td>1889-01-02 12:00:00</td>\n",
       "      <td>-35.439867</td>\n",
       "      <td>-33.574619</td>\n",
       "      <td>141.5625</td>\n",
       "      <td>143.4375</td>\n",
       "      <td>4.217326e-13</td>\n",
       "    </tr>\n",
       "    <tr>\n",
       "      <th>MPI-ESM-1-2-HAM</th>\n",
       "      <td>1889-01-03 12:00:00</td>\n",
       "      <td>-35.439867</td>\n",
       "      <td>-33.574619</td>\n",
       "      <td>141.5625</td>\n",
       "      <td>143.4375</td>\n",
       "      <td>4.498125e-13</td>\n",
       "    </tr>\n",
       "    <tr>\n",
       "      <th>MPI-ESM-1-2-HAM</th>\n",
       "      <td>1889-01-04 12:00:00</td>\n",
       "      <td>-35.439867</td>\n",
       "      <td>-33.574619</td>\n",
       "      <td>141.5625</td>\n",
       "      <td>143.4375</td>\n",
       "      <td>4.251282e-13</td>\n",
       "    </tr>\n",
       "    <tr>\n",
       "      <th>MPI-ESM-1-2-HAM</th>\n",
       "      <td>1889-01-05 12:00:00</td>\n",
       "      <td>-35.439867</td>\n",
       "      <td>-33.574619</td>\n",
       "      <td>141.5625</td>\n",
       "      <td>143.4375</td>\n",
       "      <td>4.270161e-13</td>\n",
       "    </tr>\n",
       "  </tbody>\n",
       "</table>\n",
       "</div>"
      ],
      "text/plain": [
       "                                time    lat_min    lat_max   lon_min  \\\n",
       "model                                                                  \n",
       "MPI-ESM-1-2-HAM  1889-01-01 12:00:00 -35.439867 -33.574619  141.5625   \n",
       "MPI-ESM-1-2-HAM  1889-01-02 12:00:00 -35.439867 -33.574619  141.5625   \n",
       "MPI-ESM-1-2-HAM  1889-01-03 12:00:00 -35.439867 -33.574619  141.5625   \n",
       "MPI-ESM-1-2-HAM  1889-01-04 12:00:00 -35.439867 -33.574619  141.5625   \n",
       "MPI-ESM-1-2-HAM  1889-01-05 12:00:00 -35.439867 -33.574619  141.5625   \n",
       "\n",
       "                  lon_max  rain (mm/day)  \n",
       "model                                     \n",
       "MPI-ESM-1-2-HAM  143.4375   4.244226e-13  \n",
       "MPI-ESM-1-2-HAM  143.4375   4.217326e-13  \n",
       "MPI-ESM-1-2-HAM  143.4375   4.498125e-13  \n",
       "MPI-ESM-1-2-HAM  143.4375   4.251282e-13  \n",
       "MPI-ESM-1-2-HAM  143.4375   4.270161e-13  "
      ]
     },
     "execution_count": 9,
     "metadata": {},
     "output_type": "execute_result"
    }
   ],
   "source": [
    "df.head()"
   ]
  },
  {
   "cell_type": "code",
   "execution_count": 10,
   "id": "c2c6265f",
   "metadata": {},
   "outputs": [
    {
     "data": {
      "text/html": [
       "<div>\n",
       "<style scoped>\n",
       "    .dataframe tbody tr th:only-of-type {\n",
       "        vertical-align: middle;\n",
       "    }\n",
       "\n",
       "    .dataframe tbody tr th {\n",
       "        vertical-align: top;\n",
       "    }\n",
       "\n",
       "    .dataframe thead th {\n",
       "        text-align: right;\n",
       "    }\n",
       "</style>\n",
       "<table border=\"1\" class=\"dataframe\">\n",
       "  <thead>\n",
       "    <tr style=\"text-align: right;\">\n",
       "      <th></th>\n",
       "      <th>time</th>\n",
       "      <th>lat_min</th>\n",
       "      <th>lat_max</th>\n",
       "      <th>lon_min</th>\n",
       "      <th>lon_max</th>\n",
       "      <th>rain (mm/day)</th>\n",
       "    </tr>\n",
       "    <tr>\n",
       "      <th>model</th>\n",
       "      <th></th>\n",
       "      <th></th>\n",
       "      <th></th>\n",
       "      <th></th>\n",
       "      <th></th>\n",
       "      <th></th>\n",
       "    </tr>\n",
       "  </thead>\n",
       "  <tbody>\n",
       "    <tr>\n",
       "      <th>SAM0-UNICON</th>\n",
       "      <td>2014-12-27 12:00:00</td>\n",
       "      <td>-30.157068</td>\n",
       "      <td>-29.21466</td>\n",
       "      <td>153.125</td>\n",
       "      <td>154.375</td>\n",
       "      <td>6.689683</td>\n",
       "    </tr>\n",
       "    <tr>\n",
       "      <th>SAM0-UNICON</th>\n",
       "      <td>2014-12-28 12:00:00</td>\n",
       "      <td>-30.157068</td>\n",
       "      <td>-29.21466</td>\n",
       "      <td>153.125</td>\n",
       "      <td>154.375</td>\n",
       "      <td>7.862555</td>\n",
       "    </tr>\n",
       "    <tr>\n",
       "      <th>SAM0-UNICON</th>\n",
       "      <td>2014-12-29 12:00:00</td>\n",
       "      <td>-30.157068</td>\n",
       "      <td>-29.21466</td>\n",
       "      <td>153.125</td>\n",
       "      <td>154.375</td>\n",
       "      <td>10.005026</td>\n",
       "    </tr>\n",
       "    <tr>\n",
       "      <th>SAM0-UNICON</th>\n",
       "      <td>2014-12-30 12:00:00</td>\n",
       "      <td>-30.157068</td>\n",
       "      <td>-29.21466</td>\n",
       "      <td>153.125</td>\n",
       "      <td>154.375</td>\n",
       "      <td>8.541592</td>\n",
       "    </tr>\n",
       "    <tr>\n",
       "      <th>SAM0-UNICON</th>\n",
       "      <td>2014-12-31 12:00:00</td>\n",
       "      <td>-30.157068</td>\n",
       "      <td>-29.21466</td>\n",
       "      <td>153.125</td>\n",
       "      <td>154.375</td>\n",
       "      <td>68.117489</td>\n",
       "    </tr>\n",
       "  </tbody>\n",
       "</table>\n",
       "</div>"
      ],
      "text/plain": [
       "                            time    lat_min   lat_max  lon_min  lon_max  \\\n",
       "model                                                                     \n",
       "SAM0-UNICON  2014-12-27 12:00:00 -30.157068 -29.21466  153.125  154.375   \n",
       "SAM0-UNICON  2014-12-28 12:00:00 -30.157068 -29.21466  153.125  154.375   \n",
       "SAM0-UNICON  2014-12-29 12:00:00 -30.157068 -29.21466  153.125  154.375   \n",
       "SAM0-UNICON  2014-12-30 12:00:00 -30.157068 -29.21466  153.125  154.375   \n",
       "SAM0-UNICON  2014-12-31 12:00:00 -30.157068 -29.21466  153.125  154.375   \n",
       "\n",
       "             rain (mm/day)  \n",
       "model                       \n",
       "SAM0-UNICON       6.689683  \n",
       "SAM0-UNICON       7.862555  \n",
       "SAM0-UNICON      10.005026  \n",
       "SAM0-UNICON       8.541592  \n",
       "SAM0-UNICON      68.117489  "
      ]
     },
     "execution_count": 10,
     "metadata": {},
     "output_type": "execute_result"
    }
   ],
   "source": [
    "df.tail()"
   ]
  },
  {
   "cell_type": "code",
   "execution_count": 11,
   "id": "004790c9",
   "metadata": {},
   "outputs": [],
   "source": [
    "df.to_csv('combined.csv', chunksize=1000)"
   ]
  },
  {
   "cell_type": "markdown",
   "id": "4418ec7f",
   "metadata": {},
   "source": [
    "<a id='3'/>\n",
    "\n",
    "### 3. Load the combined CSV to memory and perform a simple EDA"
   ]
  },
  {
   "cell_type": "markdown",
   "id": "6082ed74",
   "metadata": {},
   "source": [
    "##### [1. Investigate at least two of the following approaches to reduce memory usage while performing the EDA (e.g., value_counts).](#investigate_approaches)\n",
    "- [Changing dtype of your data](#change_dtype)\n",
    "- [Load just columns what we want](#load_cols)\n",
    "- [Loading in chunks](#load_chunks)\n",
    "- [Dask](#dask)\n",
    "\n",
    "##### [2. Discuss your observations.](#discuss1)"
   ]
  },
  {
   "cell_type": "markdown",
   "id": "91c3c80c",
   "metadata": {},
   "source": [
    "<a id='investigate_approaches'/>\n",
    "\n",
    "#### 1. Investigate at least two of the following approaches to reduce memory usage while performing the EDA (e.g., value_counts)"
   ]
  },
  {
   "cell_type": "markdown",
   "id": "b09728a2",
   "metadata": {},
   "source": [
    "---\n",
    "#### Establish baseline relevant info about the combined data"
   ]
  },
  {
   "cell_type": "code",
   "execution_count": 11,
   "id": "e86bef19",
   "metadata": {},
   "outputs": [
    {
     "data": {
      "text/html": [
       "<div>\n",
       "<style scoped>\n",
       "    .dataframe tbody tr th:only-of-type {\n",
       "        vertical-align: middle;\n",
       "    }\n",
       "\n",
       "    .dataframe tbody tr th {\n",
       "        vertical-align: top;\n",
       "    }\n",
       "\n",
       "    .dataframe thead th {\n",
       "        text-align: right;\n",
       "    }\n",
       "</style>\n",
       "<table border=\"1\" class=\"dataframe\">\n",
       "  <thead>\n",
       "    <tr style=\"text-align: right;\">\n",
       "      <th></th>\n",
       "      <th>time</th>\n",
       "      <th>lat_min</th>\n",
       "      <th>lat_max</th>\n",
       "      <th>lon_min</th>\n",
       "      <th>lon_max</th>\n",
       "      <th>rain (mm/day)</th>\n",
       "    </tr>\n",
       "    <tr>\n",
       "      <th>model</th>\n",
       "      <th></th>\n",
       "      <th></th>\n",
       "      <th></th>\n",
       "      <th></th>\n",
       "      <th></th>\n",
       "      <th></th>\n",
       "    </tr>\n",
       "  </thead>\n",
       "  <tbody>\n",
       "    <tr>\n",
       "      <th>MPI-ESM-1-2-HAM</th>\n",
       "      <td>1889-01-01 12:00:00</td>\n",
       "      <td>-35.439867</td>\n",
       "      <td>-33.574619</td>\n",
       "      <td>141.5625</td>\n",
       "      <td>143.4375</td>\n",
       "      <td>4.244226e-13</td>\n",
       "    </tr>\n",
       "    <tr>\n",
       "      <th>MPI-ESM-1-2-HAM</th>\n",
       "      <td>1889-01-02 12:00:00</td>\n",
       "      <td>-35.439867</td>\n",
       "      <td>-33.574619</td>\n",
       "      <td>141.5625</td>\n",
       "      <td>143.4375</td>\n",
       "      <td>4.217326e-13</td>\n",
       "    </tr>\n",
       "    <tr>\n",
       "      <th>MPI-ESM-1-2-HAM</th>\n",
       "      <td>1889-01-03 12:00:00</td>\n",
       "      <td>-35.439867</td>\n",
       "      <td>-33.574619</td>\n",
       "      <td>141.5625</td>\n",
       "      <td>143.4375</td>\n",
       "      <td>4.498125e-13</td>\n",
       "    </tr>\n",
       "    <tr>\n",
       "      <th>MPI-ESM-1-2-HAM</th>\n",
       "      <td>1889-01-04 12:00:00</td>\n",
       "      <td>-35.439867</td>\n",
       "      <td>-33.574619</td>\n",
       "      <td>141.5625</td>\n",
       "      <td>143.4375</td>\n",
       "      <td>4.251282e-13</td>\n",
       "    </tr>\n",
       "    <tr>\n",
       "      <th>MPI-ESM-1-2-HAM</th>\n",
       "      <td>1889-01-05 12:00:00</td>\n",
       "      <td>-35.439867</td>\n",
       "      <td>-33.574619</td>\n",
       "      <td>141.5625</td>\n",
       "      <td>143.4375</td>\n",
       "      <td>4.270161e-13</td>\n",
       "    </tr>\n",
       "  </tbody>\n",
       "</table>\n",
       "</div>"
      ],
      "text/plain": [
       "                                time    lat_min    lat_max   lon_min  \\\n",
       "model                                                                  \n",
       "MPI-ESM-1-2-HAM  1889-01-01 12:00:00 -35.439867 -33.574619  141.5625   \n",
       "MPI-ESM-1-2-HAM  1889-01-02 12:00:00 -35.439867 -33.574619  141.5625   \n",
       "MPI-ESM-1-2-HAM  1889-01-03 12:00:00 -35.439867 -33.574619  141.5625   \n",
       "MPI-ESM-1-2-HAM  1889-01-04 12:00:00 -35.439867 -33.574619  141.5625   \n",
       "MPI-ESM-1-2-HAM  1889-01-05 12:00:00 -35.439867 -33.574619  141.5625   \n",
       "\n",
       "                  lon_max  rain (mm/day)  \n",
       "model                                     \n",
       "MPI-ESM-1-2-HAM  143.4375   4.244226e-13  \n",
       "MPI-ESM-1-2-HAM  143.4375   4.217326e-13  \n",
       "MPI-ESM-1-2-HAM  143.4375   4.498125e-13  \n",
       "MPI-ESM-1-2-HAM  143.4375   4.251282e-13  \n",
       "MPI-ESM-1-2-HAM  143.4375   4.270161e-13  "
      ]
     },
     "execution_count": 11,
     "metadata": {},
     "output_type": "execute_result"
    }
   ],
   "source": [
    "df.head()"
   ]
  },
  {
   "cell_type": "code",
   "execution_count": 12,
   "id": "dd1ff35d",
   "metadata": {},
   "outputs": [
    {
     "name": "stdout",
     "output_type": "stream",
     "text": [
      "<class 'pandas.core.frame.DataFrame'>\n",
      "Index: 66151029 entries, MPI-ESM-1-2-HAM to SAM0-UNICON\n",
      "Data columns (total 6 columns):\n",
      " #   Column         Dtype  \n",
      "---  ------         -----  \n",
      " 0   time           object \n",
      " 1   lat_min        float64\n",
      " 2   lat_max        float64\n",
      " 3   lon_min        float64\n",
      " 4   lon_max        float64\n",
      " 5   rain (mm/day)  float64\n",
      "dtypes: float64(5), object(1)\n",
      "memory usage: 3.5+ GB\n"
     ]
    }
   ],
   "source": [
    "# check current dtype and other info\n",
    "df.info()"
   ]
  },
  {
   "cell_type": "code",
   "execution_count": 30,
   "id": "ff42ae7d",
   "metadata": {},
   "outputs": [
    {
     "name": "stdout",
     "output_type": "stream",
     "text": [
      "peak memory: 11169.43 MiB, increment: 5932.62 MiB\n",
      "CPU times: user 14.1 s, sys: 9.47 s, total: 23.6 s\n",
      "Wall time: 26.8 s\n"
     ]
    }
   ],
   "source": [
    "%%time\n",
    "%%memit\n",
    "\n",
    "# simple EDA for baseline data\n",
    "df.describe()"
   ]
  },
  {
   "cell_type": "code",
   "execution_count": 13,
   "id": "2a9304aa",
   "metadata": {},
   "outputs": [
    {
     "name": "stdout",
     "output_type": "stream",
     "text": [
      "Memory usage of combined data with float64: 3704.46 MB\n"
     ]
    }
   ],
   "source": [
    "print(f\"Memory usage of combined data with float64: {df.memory_usage().sum() / 1e6:.2f} MB\")"
   ]
  },
  {
   "cell_type": "markdown",
   "id": "ad7f6b49",
   "metadata": {},
   "source": [
    "----\n",
    "<a id='#change_dtype'></a>\n",
    "\n",
    "##### Change dtype of the data"
   ]
  },
  {
   "cell_type": "code",
   "execution_count": 14,
   "id": "037ea82a",
   "metadata": {},
   "outputs": [],
   "source": [
    "# change the dtype of data\n",
    "col_dtype_spec = {\n",
    "    \"model\": \"str\",\n",
    "    \"time\": \"str\",\n",
    "    \"lat_min\": np.float32,\n",
    "    \"lat_max\": np.float32,\n",
    "    \"lon_min\": np.float32,\n",
    "    \"lon_max\": np.float32,\n",
    "    \"rain (mm/day)\": np.float32\n",
    "}"
   ]
  },
  {
   "cell_type": "code",
   "execution_count": 15,
   "id": "977f728b",
   "metadata": {},
   "outputs": [
    {
     "name": "stdout",
     "output_type": "stream",
     "text": [
      "peak memory: 7254.16 MiB, increment: 2023.05 MiB\n",
      "CPU times: user 1min 16s, sys: 7.07 s, total: 1min 23s\n",
      "Wall time: 1min 27s\n"
     ]
    }
   ],
   "source": [
    "%%time\n",
    "%%memit\n",
    "\n",
    "df1 = pd.read_csv('combined.csv', dtype=col_dtype_spec, parse_dates=[\"time\"])\n",
    "df1_eda = df1[\"model\"].value_counts()\n",
    "df1_eda"
   ]
  },
  {
   "cell_type": "code",
   "execution_count": 19,
   "id": "272f21b6",
   "metadata": {},
   "outputs": [
    {
     "data": {
      "text/html": [
       "<div>\n",
       "<style scoped>\n",
       "    .dataframe tbody tr th:only-of-type {\n",
       "        vertical-align: middle;\n",
       "    }\n",
       "\n",
       "    .dataframe tbody tr th {\n",
       "        vertical-align: top;\n",
       "    }\n",
       "\n",
       "    .dataframe thead th {\n",
       "        text-align: right;\n",
       "    }\n",
       "</style>\n",
       "<table border=\"1\" class=\"dataframe\">\n",
       "  <thead>\n",
       "    <tr style=\"text-align: right;\">\n",
       "      <th></th>\n",
       "      <th>model</th>\n",
       "      <th>time</th>\n",
       "      <th>lat_min</th>\n",
       "      <th>lat_max</th>\n",
       "      <th>lon_min</th>\n",
       "      <th>lon_max</th>\n",
       "      <th>rain (mm/day)</th>\n",
       "    </tr>\n",
       "  </thead>\n",
       "  <tbody>\n",
       "    <tr>\n",
       "      <th>0</th>\n",
       "      <td>MPI-ESM-1-2-HAM</td>\n",
       "      <td>1889-01-01 12:00:00</td>\n",
       "      <td>-35.439865</td>\n",
       "      <td>-33.574619</td>\n",
       "      <td>141.5625</td>\n",
       "      <td>143.4375</td>\n",
       "      <td>4.244226e-13</td>\n",
       "    </tr>\n",
       "    <tr>\n",
       "      <th>1</th>\n",
       "      <td>MPI-ESM-1-2-HAM</td>\n",
       "      <td>1889-01-02 12:00:00</td>\n",
       "      <td>-35.439865</td>\n",
       "      <td>-33.574619</td>\n",
       "      <td>141.5625</td>\n",
       "      <td>143.4375</td>\n",
       "      <td>4.217326e-13</td>\n",
       "    </tr>\n",
       "    <tr>\n",
       "      <th>2</th>\n",
       "      <td>MPI-ESM-1-2-HAM</td>\n",
       "      <td>1889-01-03 12:00:00</td>\n",
       "      <td>-35.439865</td>\n",
       "      <td>-33.574619</td>\n",
       "      <td>141.5625</td>\n",
       "      <td>143.4375</td>\n",
       "      <td>4.498125e-13</td>\n",
       "    </tr>\n",
       "    <tr>\n",
       "      <th>3</th>\n",
       "      <td>MPI-ESM-1-2-HAM</td>\n",
       "      <td>1889-01-04 12:00:00</td>\n",
       "      <td>-35.439865</td>\n",
       "      <td>-33.574619</td>\n",
       "      <td>141.5625</td>\n",
       "      <td>143.4375</td>\n",
       "      <td>4.251282e-13</td>\n",
       "    </tr>\n",
       "    <tr>\n",
       "      <th>4</th>\n",
       "      <td>MPI-ESM-1-2-HAM</td>\n",
       "      <td>1889-01-05 12:00:00</td>\n",
       "      <td>-35.439865</td>\n",
       "      <td>-33.574619</td>\n",
       "      <td>141.5625</td>\n",
       "      <td>143.4375</td>\n",
       "      <td>4.270161e-13</td>\n",
       "    </tr>\n",
       "  </tbody>\n",
       "</table>\n",
       "</div>"
      ],
      "text/plain": [
       "             model                time    lat_min    lat_max   lon_min  \\\n",
       "0  MPI-ESM-1-2-HAM 1889-01-01 12:00:00 -35.439865 -33.574619  141.5625   \n",
       "1  MPI-ESM-1-2-HAM 1889-01-02 12:00:00 -35.439865 -33.574619  141.5625   \n",
       "2  MPI-ESM-1-2-HAM 1889-01-03 12:00:00 -35.439865 -33.574619  141.5625   \n",
       "3  MPI-ESM-1-2-HAM 1889-01-04 12:00:00 -35.439865 -33.574619  141.5625   \n",
       "4  MPI-ESM-1-2-HAM 1889-01-05 12:00:00 -35.439865 -33.574619  141.5625   \n",
       "\n",
       "    lon_max  rain (mm/day)  \n",
       "0  143.4375   4.244226e-13  \n",
       "1  143.4375   4.217326e-13  \n",
       "2  143.4375   4.498125e-13  \n",
       "3  143.4375   4.251282e-13  \n",
       "4  143.4375   4.270161e-13  "
      ]
     },
     "execution_count": 19,
     "metadata": {},
     "output_type": "execute_result"
    }
   ],
   "source": [
    "df1.head()"
   ]
  },
  {
   "cell_type": "code",
   "execution_count": 20,
   "id": "8baf050b",
   "metadata": {},
   "outputs": [
    {
     "data": {
      "text/plain": [
       "model                    object\n",
       "time             datetime64[ns]\n",
       "lat_min                 float32\n",
       "lat_max                 float32\n",
       "lon_min                 float32\n",
       "lon_max                 float32\n",
       "rain (mm/day)           float32\n",
       "dtype: object"
      ]
     },
     "execution_count": 20,
     "metadata": {},
     "output_type": "execute_result"
    }
   ],
   "source": [
    "# sanity check that dtypes has been changes\n",
    "df1.dtypes"
   ]
  },
  {
   "cell_type": "code",
   "execution_count": 21,
   "id": "a7059477",
   "metadata": {},
   "outputs": [
    {
     "name": "stdout",
     "output_type": "stream",
     "text": [
      "peak memory: 6485.61 MiB, increment: 2018.79 MiB\n",
      "CPU times: user 9.33 s, sys: 2.87 s, total: 12.2 s\n",
      "Wall time: 12.7 s\n"
     ]
    }
   ],
   "source": [
    "%%time\n",
    "%%memit\n",
    "\n",
    "df1.describe()"
   ]
  },
  {
   "cell_type": "code",
   "execution_count": 27,
   "id": "7b863889",
   "metadata": {},
   "outputs": [
    {
     "name": "stdout",
     "output_type": "stream",
     "text": [
      "Memory usage of combined data with float32: 2381.44 MB\n"
     ]
    }
   ],
   "source": [
    "print(f\"Memory usage of combined data with float32: {df1.memory_usage().sum() / 1e6:.2f} MB\")"
   ]
  },
  {
   "cell_type": "markdown",
   "id": "78aac483",
   "metadata": {},
   "source": [
    "---\n",
    "\n",
    "<a id='#load_cols'/>\n",
    "\n",
    "##### Load just columns what we want"
   ]
  },
  {
   "cell_type": "code",
   "execution_count": 23,
   "id": "5dc81729",
   "metadata": {},
   "outputs": [],
   "source": [
    "usecols = [\"model\", \"time\", \"rain (mm/day)\"]"
   ]
  },
  {
   "cell_type": "code",
   "execution_count": 24,
   "id": "0a553ade",
   "metadata": {},
   "outputs": [
    {
     "name": "stdout",
     "output_type": "stream",
     "text": [
      "peak memory: 7624.25 MiB, increment: 3157.37 MiB\n",
      "CPU times: user 1min 4s, sys: 6.78 s, total: 1min 11s\n",
      "Wall time: 1min 14s\n"
     ]
    }
   ],
   "source": [
    "%%time\n",
    "%%memit\n",
    "\n",
    "df2 = pd.read_csv('combined.csv', dtype=col_dtype_spec, parse_dates=[\"time\"], usecols=usecols)\n",
    "df2_eda = df2[\"model\"].value_counts()\n",
    "df2_eda"
   ]
  },
  {
   "cell_type": "code",
   "execution_count": 25,
   "id": "6fa2b6ec",
   "metadata": {},
   "outputs": [
    {
     "data": {
      "text/html": [
       "<div>\n",
       "<style scoped>\n",
       "    .dataframe tbody tr th:only-of-type {\n",
       "        vertical-align: middle;\n",
       "    }\n",
       "\n",
       "    .dataframe tbody tr th {\n",
       "        vertical-align: top;\n",
       "    }\n",
       "\n",
       "    .dataframe thead th {\n",
       "        text-align: right;\n",
       "    }\n",
       "</style>\n",
       "<table border=\"1\" class=\"dataframe\">\n",
       "  <thead>\n",
       "    <tr style=\"text-align: right;\">\n",
       "      <th></th>\n",
       "      <th>model</th>\n",
       "      <th>time</th>\n",
       "      <th>rain (mm/day)</th>\n",
       "    </tr>\n",
       "  </thead>\n",
       "  <tbody>\n",
       "    <tr>\n",
       "      <th>0</th>\n",
       "      <td>MPI-ESM-1-2-HAM</td>\n",
       "      <td>1889-01-01 12:00:00</td>\n",
       "      <td>4.244226e-13</td>\n",
       "    </tr>\n",
       "    <tr>\n",
       "      <th>1</th>\n",
       "      <td>MPI-ESM-1-2-HAM</td>\n",
       "      <td>1889-01-02 12:00:00</td>\n",
       "      <td>4.217326e-13</td>\n",
       "    </tr>\n",
       "    <tr>\n",
       "      <th>2</th>\n",
       "      <td>MPI-ESM-1-2-HAM</td>\n",
       "      <td>1889-01-03 12:00:00</td>\n",
       "      <td>4.498125e-13</td>\n",
       "    </tr>\n",
       "    <tr>\n",
       "      <th>3</th>\n",
       "      <td>MPI-ESM-1-2-HAM</td>\n",
       "      <td>1889-01-04 12:00:00</td>\n",
       "      <td>4.251282e-13</td>\n",
       "    </tr>\n",
       "    <tr>\n",
       "      <th>4</th>\n",
       "      <td>MPI-ESM-1-2-HAM</td>\n",
       "      <td>1889-01-05 12:00:00</td>\n",
       "      <td>4.270161e-13</td>\n",
       "    </tr>\n",
       "  </tbody>\n",
       "</table>\n",
       "</div>"
      ],
      "text/plain": [
       "             model                time  rain (mm/day)\n",
       "0  MPI-ESM-1-2-HAM 1889-01-01 12:00:00   4.244226e-13\n",
       "1  MPI-ESM-1-2-HAM 1889-01-02 12:00:00   4.217326e-13\n",
       "2  MPI-ESM-1-2-HAM 1889-01-03 12:00:00   4.498125e-13\n",
       "3  MPI-ESM-1-2-HAM 1889-01-04 12:00:00   4.251282e-13\n",
       "4  MPI-ESM-1-2-HAM 1889-01-05 12:00:00   4.270161e-13"
      ]
     },
     "execution_count": 25,
     "metadata": {},
     "output_type": "execute_result"
    }
   ],
   "source": [
    "df2.head()"
   ]
  },
  {
   "cell_type": "code",
   "execution_count": 26,
   "id": "2a096640",
   "metadata": {},
   "outputs": [
    {
     "data": {
      "text/plain": [
       "model                    object\n",
       "time             datetime64[ns]\n",
       "rain (mm/day)           float32\n",
       "dtype: object"
      ]
     },
     "execution_count": 26,
     "metadata": {},
     "output_type": "execute_result"
    }
   ],
   "source": [
    "df2.dtypes"
   ]
  },
  {
   "cell_type": "code",
   "execution_count": 28,
   "id": "d47258aa",
   "metadata": {},
   "outputs": [
    {
     "name": "stdout",
     "output_type": "stream",
     "text": [
      "peak memory: 6246.20 MiB, increment: 1009.25 MiB\n",
      "CPU times: user 2.77 s, sys: 776 ms, total: 3.55 s\n",
      "Wall time: 4.53 s\n"
     ]
    }
   ],
   "source": [
    "%%time\n",
    "%%memit\n",
    "\n",
    "df2.describe()"
   ]
  },
  {
   "cell_type": "code",
   "execution_count": 29,
   "id": "28fdb5f9",
   "metadata": {},
   "outputs": [
    {
     "name": "stdout",
     "output_type": "stream",
     "text": [
      "Memory usage of combined data with only columns that we want and changed dtypes: 1323.02 MB\n"
     ]
    }
   ],
   "source": [
    "print(f\"Memory usage of combined data with only columns that we want and changed dtypes: {df2.memory_usage().sum() / 1e6:.2f} MB\")"
   ]
  },
  {
   "cell_type": "markdown",
   "id": "3fc5997e",
   "metadata": {},
   "source": [
    "---\n",
    "\n",
    "<a id='load_chunks'/>\n",
    "\n",
    "##### Loading in chunks"
   ]
  },
  {
   "cell_type": "code",
   "execution_count": 10,
   "id": "d48f9f50",
   "metadata": {},
   "outputs": [
    {
     "name": "stdout",
     "output_type": "stream",
     "text": [
      "peak memory: 2437.45 MiB, increment: 2173.19 MiB\n",
      "CPU times: user 1min 8s, sys: 5.47 s, total: 1min 13s\n",
      "Wall time: 1min 22s\n"
     ]
    }
   ],
   "source": [
    "%%time\n",
    "%%memit\n",
    "\n",
    "counts = pd.Series(dtype=int)\n",
    "\n",
    "for chunk in pd.read_csv(\"combined.csv\", chunksize=10_000_000):\n",
    "    counts = counts.add(chunk[\"model\"].value_counts(), fill_value=0)\n",
    "counts.astype(int).sort_values(ascending = False)"
   ]
  },
  {
   "cell_type": "markdown",
   "id": "38a7fced",
   "metadata": {},
   "source": [
    "---\n",
    "\n",
    "<a id='dask'></a>\n",
    "\n",
    "##### Dask"
   ]
  },
  {
   "cell_type": "code",
   "execution_count": 13,
   "id": "016e5914",
   "metadata": {},
   "outputs": [
    {
     "name": "stdout",
     "output_type": "stream",
     "text": [
      "peak memory: 4667.44 MiB, increment: 704.34 MiB\n",
      "CPU times: user 1min 32s, sys: 15.1 s, total: 1min 47s\n",
      "Wall time: 56.8 s\n"
     ]
    }
   ],
   "source": [
    "%%time\n",
    "%%memit\n",
    "\n",
    "ddf = dd.read_csv('combined.csv')\n",
    "ddf[\"model\"].value_counts().compute()"
   ]
  },
  {
   "cell_type": "code",
   "execution_count": 14,
   "id": "1931dce9",
   "metadata": {},
   "outputs": [
    {
     "data": {
      "text/html": [
       "<div>\n",
       "<style scoped>\n",
       "    .dataframe tbody tr th:only-of-type {\n",
       "        vertical-align: middle;\n",
       "    }\n",
       "\n",
       "    .dataframe tbody tr th {\n",
       "        vertical-align: top;\n",
       "    }\n",
       "\n",
       "    .dataframe thead th {\n",
       "        text-align: right;\n",
       "    }\n",
       "</style>\n",
       "<table border=\"1\" class=\"dataframe\">\n",
       "  <thead>\n",
       "    <tr style=\"text-align: right;\">\n",
       "      <th></th>\n",
       "      <th>model</th>\n",
       "      <th>time</th>\n",
       "      <th>lat_min</th>\n",
       "      <th>lat_max</th>\n",
       "      <th>lon_min</th>\n",
       "      <th>lon_max</th>\n",
       "      <th>rain (mm/day)</th>\n",
       "    </tr>\n",
       "  </thead>\n",
       "  <tbody>\n",
       "    <tr>\n",
       "      <th>0</th>\n",
       "      <td>MPI-ESM-1-2-HAM</td>\n",
       "      <td>1889-01-01 12:00:00</td>\n",
       "      <td>-35.439867</td>\n",
       "      <td>-33.574619</td>\n",
       "      <td>141.5625</td>\n",
       "      <td>143.4375</td>\n",
       "      <td>4.244226e-13</td>\n",
       "    </tr>\n",
       "    <tr>\n",
       "      <th>1</th>\n",
       "      <td>MPI-ESM-1-2-HAM</td>\n",
       "      <td>1889-01-02 12:00:00</td>\n",
       "      <td>-35.439867</td>\n",
       "      <td>-33.574619</td>\n",
       "      <td>141.5625</td>\n",
       "      <td>143.4375</td>\n",
       "      <td>4.217326e-13</td>\n",
       "    </tr>\n",
       "    <tr>\n",
       "      <th>2</th>\n",
       "      <td>MPI-ESM-1-2-HAM</td>\n",
       "      <td>1889-01-03 12:00:00</td>\n",
       "      <td>-35.439867</td>\n",
       "      <td>-33.574619</td>\n",
       "      <td>141.5625</td>\n",
       "      <td>143.4375</td>\n",
       "      <td>4.498125e-13</td>\n",
       "    </tr>\n",
       "    <tr>\n",
       "      <th>3</th>\n",
       "      <td>MPI-ESM-1-2-HAM</td>\n",
       "      <td>1889-01-04 12:00:00</td>\n",
       "      <td>-35.439867</td>\n",
       "      <td>-33.574619</td>\n",
       "      <td>141.5625</td>\n",
       "      <td>143.4375</td>\n",
       "      <td>4.251282e-13</td>\n",
       "    </tr>\n",
       "    <tr>\n",
       "      <th>4</th>\n",
       "      <td>MPI-ESM-1-2-HAM</td>\n",
       "      <td>1889-01-05 12:00:00</td>\n",
       "      <td>-35.439867</td>\n",
       "      <td>-33.574619</td>\n",
       "      <td>141.5625</td>\n",
       "      <td>143.4375</td>\n",
       "      <td>4.270161e-13</td>\n",
       "    </tr>\n",
       "  </tbody>\n",
       "</table>\n",
       "</div>"
      ],
      "text/plain": [
       "             model                 time    lat_min    lat_max   lon_min  \\\n",
       "0  MPI-ESM-1-2-HAM  1889-01-01 12:00:00 -35.439867 -33.574619  141.5625   \n",
       "1  MPI-ESM-1-2-HAM  1889-01-02 12:00:00 -35.439867 -33.574619  141.5625   \n",
       "2  MPI-ESM-1-2-HAM  1889-01-03 12:00:00 -35.439867 -33.574619  141.5625   \n",
       "3  MPI-ESM-1-2-HAM  1889-01-04 12:00:00 -35.439867 -33.574619  141.5625   \n",
       "4  MPI-ESM-1-2-HAM  1889-01-05 12:00:00 -35.439867 -33.574619  141.5625   \n",
       "\n",
       "    lon_max  rain (mm/day)  \n",
       "0  143.4375   4.244226e-13  \n",
       "1  143.4375   4.217326e-13  \n",
       "2  143.4375   4.498125e-13  \n",
       "3  143.4375   4.251282e-13  \n",
       "4  143.4375   4.270161e-13  "
      ]
     },
     "execution_count": 14,
     "metadata": {},
     "output_type": "execute_result"
    }
   ],
   "source": [
    "ddf.head()"
   ]
  },
  {
   "cell_type": "code",
   "execution_count": 15,
   "id": "71cff175",
   "metadata": {},
   "outputs": [],
   "source": [
    "from dask.diagnostics import ProgressBar"
   ]
  },
  {
   "cell_type": "code",
   "execution_count": 18,
   "id": "7022a226",
   "metadata": {},
   "outputs": [
    {
     "name": "stdout",
     "output_type": "stream",
     "text": [
      "[########################################] | 100% Completed | 52.2s\n",
      "model                  0\n",
      "time                   0\n",
      "lat_min          3219300\n",
      "lat_max                0\n",
      "lon_min          3219300\n",
      "lon_max                0\n",
      "rain (mm/day)    3219300\n",
      "dtype: int64\n"
     ]
    }
   ],
   "source": [
    "with ProgressBar():\n",
    "    print(ddf.isnull().sum().compute())"
   ]
  },
  {
   "cell_type": "markdown",
   "id": "ed2ab5f6",
   "metadata": {},
   "source": [
    "---\n",
    "<a id='discuss1'></a>\n",
    "\n",
    "#### 2. Discuss your observations\n",
    "\n",
    "We have investigated all four approaches to perform a simple EDA in Python and below are the observations based on the results that we've got when we performed EDA of the combined csv file. \n",
    "- Changing dtype of your data\n",
    "> We changed the type of our data such that numeric columns that were of type 'float64' are changed to 'float32' and as a result we can see that the memory usage has been reduced substantially, i.e. from that of the baseline 3704.46 MB to 2381.44 MB. Also, we saw a huge reduction in numbers for all peak memory, Wall time, and CPU times when we used `.describe()` function to perform a simple EDA in the data with float32 compared to data with float64. \n",
    "- Load just columns what we want\n",
    "> We loaded just the columns that we want to perform an EDA to, that is 'model', 'time', and 'rain (mm/day)' and the time it took pandas to load the csv file was comparable to the previous apprach. The memory usage is lower which is to be expected as we are loading less columns here in this approach compared to the previous approach. In addition, the memory usage is substantially lower here compared to the data with float62.\n",
    "- Loading in chunks\n",
    "> In this approach we are loading the combined csv data in chunks of 10000000 records and thus serially performing EDA of model value counts. The values of Wall time and CPU time in this approach are similar to those of the previous approaches but the peak memory is way lower in this approach.\n",
    "- Dask\n",
    "> In this approach we used Dask which performes EDA in a more optimised way by internally loading chunks of data. Compared to the previous approach where we loaded data in chunks, the CPU time is higher here as well as \n",
    "\n",
    "We investigated two approaches,first using chunks and second using dask.\n",
    "The first approach loads the combined csv file in chuncks of 10_000_000 and serially performs EDA of counting models\n",
    "The second approach using dask internally loads in chunks and performs eda parallely in an optimized way.\n",
    "The memory usage in both the first and second approach is similar.\n",
    "The CPU time is higher in the dask approach as compared to first approach. Also there is higher difference between CPU time and Wall time in dask than first approach\n",
    "The wall time of second approach using dask is better than the first approach"
   ]
  },
  {
   "cell_type": "markdown",
   "id": "f790286c",
   "metadata": {},
   "source": [
    "<a id='4'/>\n",
    "\n",
    "\n",
    "### 4. Perform a simple EDA in R"
   ]
  },
  {
   "cell_type": "markdown",
   "id": "005d8703",
   "metadata": {},
   "source": [
    "1. [Pick an approach to transfer the dataframe from python to R.](#transfer_data)\n",
    "    - [Parquet file](#transfer_parquet)\n",
    "    - [Feather file](#transfer_feather)\n",
    "    - [Pandas exchange](#transfer-pandas)\n",
    "    - [Arrow exchange](#transfer-arrow)\n",
    "2. [Discuss why you chose this approach over others.](#4-discussion)"
   ]
  },
  {
   "cell_type": "markdown",
   "id": "c1634649",
   "metadata": {},
   "source": [
    "##### Pandas format"
   ]
  },
  {
   "cell_type": "code",
   "execution_count": 4,
   "id": "0b5cd54e",
   "metadata": {},
   "outputs": [
    {
     "name": "stdout",
     "output_type": "stream",
     "text": [
      "peak memory: 412.40 MiB, increment: 136.86 MiB\n",
      "Wall time: 1.7 s\n"
     ]
    }
   ],
   "source": [
    "%%time\n",
    "%%memit\n",
    "df = pd.read_csv(\"combined.csv\", nrows=1_000_000)"
   ]
  },
  {
   "cell_type": "markdown",
   "id": "d2f500b7",
   "metadata": {},
   "source": [
    "##### Arrow format"
   ]
  },
  {
   "cell_type": "code",
   "execution_count": 8,
   "id": "667459d6",
   "metadata": {},
   "outputs": [
    {
     "name": "stdout",
     "output_type": "stream",
     "text": [
      "peak memory: 4552.66 MiB, increment: 4181.79 MiB\n",
      "Wall time: 36.5 s\n"
     ]
    }
   ],
   "source": [
    "%%time\n",
    "%%memit\n",
    "dataset = ds.dataset(\"combined.csv\", format=\"csv\")\n",
    "table = dataset.to_table()"
   ]
  },
  {
   "cell_type": "markdown",
   "id": "1df547ee",
   "metadata": {},
   "source": [
    "##### Feather format"
   ]
  },
  {
   "cell_type": "code",
   "execution_count": 9,
   "id": "b2dc0076",
   "metadata": {},
   "outputs": [
    {
     "name": "stdout",
     "output_type": "stream",
     "text": [
      "peak memory: 4566.12 MiB, increment: 13.46 MiB\n",
      "Wall time: 4.93 s\n"
     ]
    }
   ],
   "source": [
    "%%time\n",
    "%%memit\n",
    "feather.write_feather(table, 'combined.feather')"
   ]
  },
  {
   "cell_type": "markdown",
   "id": "f16158ae",
   "metadata": {},
   "source": [
    "##### Parquet format"
   ]
  },
  {
   "cell_type": "code",
   "execution_count": 10,
   "id": "103635b6",
   "metadata": {},
   "outputs": [
    {
     "name": "stdout",
     "output_type": "stream",
     "text": [
      "peak memory: 4708.31 MiB, increment: 142.86 MiB\n",
      "Wall time: 16.5 s\n"
     ]
    }
   ],
   "source": [
    "%%time\n",
    "%%memit\n",
    "pq.write_table(table, 'combined.parquet')"
   ]
  },
  {
   "cell_type": "code",
   "execution_count": 11,
   "id": "d60e1c29",
   "metadata": {},
   "outputs": [
    {
     "name": "stdout",
     "output_type": "stream",
     "text": [
      "6.0G\tcombined.csv\n",
      "1.1G\tcombined.feather\n",
      "542M\tcombined.parquet\n"
     ]
    }
   ],
   "source": [
    "%%sh\n",
    "# csv data\n",
    "du -sh combined.csv\n",
    "\n",
    "# feather data\n",
    "du -sh combined.feather\n",
    "\n",
    "# parquet data\n",
    "du -sh combined.parquet"
   ]
  },
  {
   "cell_type": "markdown",
   "id": "685a2802",
   "metadata": {},
   "source": [
    "<a id='transfer_data'/>\n",
    "\n",
    "#### 1. Transfer the dataframe from python to R and perform EDA"
   ]
  },
  {
   "cell_type": "code",
   "execution_count": 13,
   "id": "6f82a587",
   "metadata": {},
   "outputs": [],
   "source": [
    "%%R\n",
    "library(dplyr)\n",
    "library(arrow)"
   ]
  },
  {
   "cell_type": "markdown",
   "id": "c33fef9c",
   "metadata": {},
   "source": [
    "<a id='transfer-pandas'/>\n",
    "\n",
    "##### 1. Pandas"
   ]
  },
  {
   "cell_type": "code",
   "execution_count": 14,
   "id": "0d234d40",
   "metadata": {},
   "outputs": [
    {
     "name": "stdout",
     "output_type": "stream",
     "text": [
      "[1] \"data.frame\"\n",
      "     time              lat_min          lat_max          lon_min     \n",
      " Length:1000000     Min.   :-36.25   Min.   :-35.00   Min.   :140.6  \n",
      " Class :character   1st Qu.:-36.25   1st Qu.:-35.00   1st Qu.:142.5  \n",
      " Mode  :character   Median :-35.00   Median :-33.75   Median :146.2  \n",
      "                    Mean   :-34.92   Mean   :-33.67   Mean   :146.1  \n",
      "                    3rd Qu.:-33.75   3rd Qu.:-32.50   3rd Qu.:150.0  \n",
      "                    Max.   :-32.50   Max.   :-31.25   Max.   :151.9  \n",
      "    lon_max      rain (mm/day)         model          \n",
      " Min.   :142.5   Min.   :  0.0000   Length:1000000    \n",
      " 1st Qu.:144.4   1st Qu.:  0.0082   Class :character  \n",
      " Median :148.1   Median :  0.1190   Mode  :character  \n",
      " Mean   :147.9   Mean   :  1.7961                     \n",
      " 3rd Qu.:151.9   3rd Qu.:  0.8148                     \n",
      " Max.   :153.8   Max.   :432.9395                     \n",
      "Time difference of 0.2850361 secs\n",
      "Wall time: 46.2 s\n"
     ]
    }
   ],
   "source": [
    "%%time\n",
    "%%R -i df\n",
    "\n",
    "start_time <- Sys.time()\n",
    "print(class(df))\n",
    "result <- df %>% collect() %>% summary()\n",
    "end_time <- Sys.time()\n",
    "print(result)\n",
    "print(end_time - start_time)"
   ]
  },
  {
   "cell_type": "markdown",
   "id": "82e460c6",
   "metadata": {},
   "source": [
    "<a id='transfer-arrow'/>\n",
    "\n",
    "##### 2. Arrow"
   ]
  },
  {
   "cell_type": "code",
   "execution_count": 15,
   "id": "de3a14c9",
   "metadata": {},
   "outputs": [
    {
     "name": "stdout",
     "output_type": "stream",
     "text": [
      "6052\n",
      "rarrow.ChunkedArray: 0.0380098819732666\n",
      "6052\n",
      "rarrow.ChunkedArray: 0.028034687042236328\n",
      "6052\n",
      "rarrow.ChunkedArray: 0.03199338912963867\n",
      "6052\n",
      "rarrow.ChunkedArray: 0.048981428146362305\n",
      "6052\n",
      "rarrow.ChunkedArray: 0.0460052490234375\n",
      "6052\n",
      "rarrow.ChunkedArray: 0.029996156692504883\n",
      "6052\n",
      "rarrow.ChunkedArray: 0.030958175659179688\n"
     ]
    }
   ],
   "source": [
    "r_table = pyra.converter.py2rpy(table)"
   ]
  },
  {
   "cell_type": "code",
   "execution_count": 16,
   "id": "01da0675",
   "metadata": {},
   "outputs": [
    {
     "name": "stdout",
     "output_type": "stream",
     "text": [
      "[1] \"Table\"       \"ArrowObject\" \"R6\"         \n",
      "[1] \"tbl_df\"     \"tbl\"        \"data.frame\"\n",
      "      time                        lat_min           lat_max      \n",
      " Min.   :1889-01-01 08:06:00   Min.   :-36       Min.   :-36.00  \n",
      " 1st Qu.:1920-07-02 20:00:00   1st Qu.:-35       1st Qu.:-33.66  \n",
      " Median :1952-01-01 20:00:00   Median :-33       Median :-32.04  \n",
      " Mean   :1952-01-02 00:32:09   Mean   :-33       Mean   :-31.98  \n",
      " 3rd Qu.:1983-07-02 20:00:00   3rd Qu.:-31       3rd Qu.:-30.16  \n",
      " Max.   :2014-12-31 20:00:00   Max.   :-30       Max.   :-27.91  \n",
      "                               NA's   :3219300                   \n",
      "    lon_min           lon_max      rain (mm/day)        model          \n",
      " Min.   :141       Min.   :141.2   Min.   :  0       Length:62467843   \n",
      " 1st Qu.:143       1st Qu.:145.0   1st Qu.:  0       Class :character  \n",
      " Median :147       Median :148.1   Median :  0       Mode  :character  \n",
      " Mean   :147       Mean   :148.2   Mean   :  2                         \n",
      " 3rd Qu.:150       3rd Qu.:151.3   3rd Qu.:  1                         \n",
      " Max.   :154       Max.   :155.6   Max.   :433                         \n",
      " NA's   :3219300                   NA's   :3219300                     \n",
      "Time difference of 36.8867 secs\n",
      "Wall time: 37 s\n"
     ]
    }
   ],
   "source": [
    "%%time\n",
    "%%R -i r_table\n",
    "\n",
    "start_time <- Sys.time()\n",
    "print(class(r_table))\n",
    "result <- r_table %>% collect() %>% summary()\n",
    "print(class(r_table %>% collect()))\n",
    "end_time <- Sys.time()\n",
    "print(result)\n",
    "print(end_time - start_time)"
   ]
  },
  {
   "cell_type": "markdown",
   "id": "17764da4",
   "metadata": {},
   "source": [
    "<a id='transfer_feather'/>\n",
    "\n",
    "##### 3. Feather format"
   ]
  },
  {
   "cell_type": "code",
   "execution_count": null,
   "id": "dbe94287",
   "metadata": {},
   "outputs": [],
   "source": [
    "# %%time\n",
    "# %%R\n",
    "# start_time <- Sys.time()\n",
    "# r_table <- arrow::read_feather(\"combined.feather\")\n",
    "# print(class(r_table))\n",
    "# result <- r_table %>% summary()\n",
    "# end_time <- Sys.time()\n",
    "# print(result)\n",
    "# print(end_time - start_time)"
   ]
  },
  {
   "cell_type": "markdown",
   "id": "d7dcd3d7",
   "metadata": {},
   "source": [
    "<a id='transfer_parquet'/>\n",
    "\n",
    "##### 4. Parquet format"
   ]
  },
  {
   "cell_type": "code",
   "execution_count": 5,
   "id": "4bdce130",
   "metadata": {},
   "outputs": [
    {
     "name": "stdout",
     "output_type": "stream",
     "text": [
      "[1] \"tbl_df\"     \"tbl\"        \"data.frame\"\n"
     ]
    },
    {
     "name": "stderr",
     "output_type": "stream",
     "text": [
      "R[write to console]: \n",
      "Attaching package: 'dplyr'\n",
      "\n",
      "\n",
      "R[write to console]: The following objects are masked from 'package:stats':\n",
      "\n",
      "    filter, lag\n",
      "\n",
      "\n",
      "R[write to console]: The following objects are masked from 'package:base':\n",
      "\n",
      "    intersect, setdiff, setequal, union\n",
      "\n",
      "\n"
     ]
    },
    {
     "name": "stdout",
     "output_type": "stream",
     "text": [
      "      time                        lat_min           lat_max      \n",
      " Min.   :1889-01-01 08:06:00   Min.   :-36       Min.   :-36.00  \n",
      " 1st Qu.:1920-07-02 20:00:00   1st Qu.:-35       1st Qu.:-33.66  \n",
      " Median :1952-01-01 20:00:00   Median :-33       Median :-32.04  \n",
      " Mean   :1952-01-02 00:32:09   Mean   :-33       Mean   :-31.98  \n",
      " 3rd Qu.:1983-07-02 20:00:00   3rd Qu.:-31       3rd Qu.:-30.16  \n",
      " Max.   :2014-12-31 20:00:00   Max.   :-30       Max.   :-27.91  \n",
      "                               NA's   :3219300                   \n",
      "    lon_min           lon_max      rain (mm/day)        model          \n",
      " Min.   :141       Min.   :141.2   Min.   :  0       Length:62467843   \n",
      " 1st Qu.:143       1st Qu.:145.0   1st Qu.:  0       Class :character  \n",
      " Median :147       Median :148.1   Median :  0       Mode  :character  \n",
      " Mean   :147       Mean   :148.2   Mean   :  2                         \n",
      " 3rd Qu.:150       3rd Qu.:151.3   3rd Qu.:  1                         \n",
      " Max.   :154       Max.   :155.6   Max.   :433                         \n",
      " NA's   :3219300                   NA's   :3219300                     \n",
      "Time difference of 43.91868 secs\n",
      "Wall time: 44.1 s\n"
     ]
    }
   ],
   "source": [
    "%%time\n",
    "%%R\n",
    "\n",
    "start_time <- Sys.time()\n",
    "r_table <- arrow::read_parquet(\"combined.parquet\")\n",
    "print(class(r_table))\n",
    "library(dplyr)\n",
    "result <- r_table %>% summary()\n",
    "end_time <- Sys.time()\n",
    "print(result)\n",
    "print(end_time - start_time)"
   ]
  },
  {
   "cell_type": "markdown",
   "id": "5d6087da",
   "metadata": {},
   "source": [
    "<a id='4-discussion'/>\n",
    "\n",
    "#### 2. Discussion"
   ]
  },
  {
   "cell_type": "markdown",
   "id": "875d08ee",
   "metadata": {},
   "source": [
    "From above results, our group would choose parquet format to transfer the dataframe from python to R. First, the file size of our combined data is 542M with parquet format, which is much smaller than the file sizes with csv (6.0G) and feather (1.1G) format. Second, the wall time for parquet format is shorter than the wall time for feather format. The wall time for csv is a little bit shorter than the wall time for parquet. However, consider both the file size and speed, it would be better and reasonable to choose parquet format to transfer the dataframe from python to R."
   ]
  },
  {
   "cell_type": "markdown",
   "id": "16c624c3",
   "metadata": {},
   "source": [
    "##### More simpe EDA with Parquet format"
   ]
  },
  {
   "cell_type": "code",
   "execution_count": 6,
   "id": "fc76690e",
   "metadata": {},
   "outputs": [
    {
     "name": "stdout",
     "output_type": "stream",
     "text": [
      "[1] \"tbl_df\"     \"tbl\"        \"data.frame\"\n",
      "Wall time: 9.31 s\n"
     ]
    }
   ],
   "source": [
    "%%time\n",
    "%%R\n",
    "r_table <- arrow::read_parquet(\"combined.parquet\")\n",
    "class(r_table)"
   ]
  },
  {
   "cell_type": "code",
   "execution_count": 7,
   "id": "6f3da5ad",
   "metadata": {},
   "outputs": [
    {
     "name": "stdout",
     "output_type": "stream",
     "text": [
      "\u001b[38;5;246m# A tibble: 6 x 7\u001b[39m\n",
      "  time                lat_min lat_max lon_min lon_max `rain (mm/day)` model     \n",
      "  \u001b[3m\u001b[38;5;246m<dttm>\u001b[39m\u001b[23m                \u001b[3m\u001b[38;5;246m<dbl>\u001b[39m\u001b[23m   \u001b[3m\u001b[38;5;246m<dbl>\u001b[39m\u001b[23m   \u001b[3m\u001b[38;5;246m<dbl>\u001b[39m\u001b[23m   \u001b[3m\u001b[38;5;246m<dbl>\u001b[39m\u001b[23m           \u001b[3m\u001b[38;5;246m<dbl>\u001b[39m\u001b[23m \u001b[3m\u001b[38;5;246m<chr>\u001b[39m\u001b[23m     \n",
      "\u001b[38;5;250m1\u001b[39m 1889-01-01 \u001b[38;5;246m20:06:00\u001b[39m   -\u001b[31m36\u001b[39m\u001b[31m.\u001b[39m\u001b[31m2\u001b[39m     -\u001b[31m35\u001b[39m    141.    142.        3.29\u001b[38;5;246me\u001b[39m\u001b[31m-13\u001b[39m \u001b[38;5;246m\"\u001b[39mdata\\\\AC~\n",
      "\u001b[38;5;250m2\u001b[39m 1889-01-02 \u001b[38;5;246m20:06:00\u001b[39m   -\u001b[31m36\u001b[39m\u001b[31m.\u001b[39m\u001b[31m2\u001b[39m     -\u001b[31m35\u001b[39m    141.    142.        0.  \u001b[38;5;246m \u001b[39m    \u001b[38;5;246m\"\u001b[39mdata\\\\AC~\n",
      "\u001b[38;5;250m3\u001b[39m 1889-01-03 \u001b[38;5;246m20:06:00\u001b[39m   -\u001b[31m36\u001b[39m\u001b[31m.\u001b[39m\u001b[31m2\u001b[39m     -\u001b[31m35\u001b[39m    141.    142.        0.  \u001b[38;5;246m \u001b[39m    \u001b[38;5;246m\"\u001b[39mdata\\\\AC~\n",
      "\u001b[38;5;250m4\u001b[39m 1889-01-04 \u001b[38;5;246m20:06:00\u001b[39m   -\u001b[31m36\u001b[39m\u001b[31m.\u001b[39m\u001b[31m2\u001b[39m     -\u001b[31m35\u001b[39m    141.    142.        0.  \u001b[38;5;246m \u001b[39m    \u001b[38;5;246m\"\u001b[39mdata\\\\AC~\n",
      "\u001b[38;5;250m5\u001b[39m 1889-01-05 \u001b[38;5;246m20:06:00\u001b[39m   -\u001b[31m36\u001b[39m\u001b[31m.\u001b[39m\u001b[31m2\u001b[39m     -\u001b[31m35\u001b[39m    141.    142.        1.05\u001b[38;5;246me\u001b[39m\u001b[31m- 2\u001b[39m \u001b[38;5;246m\"\u001b[39mdata\\\\AC~\n",
      "\u001b[38;5;250m6\u001b[39m 1889-01-06 \u001b[38;5;246m20:06:00\u001b[39m   -\u001b[31m36\u001b[39m\u001b[31m.\u001b[39m\u001b[31m2\u001b[39m     -\u001b[31m35\u001b[39m    141.    142.        3.29\u001b[38;5;246me\u001b[39m\u001b[31m- 2\u001b[39m \u001b[38;5;246m\"\u001b[39mdata\\\\AC~\n",
      "Wall time: 3.17 s\n"
     ]
    }
   ],
   "source": [
    "%%time\n",
    "%%R\n",
    "head(r_table)"
   ]
  },
  {
   "cell_type": "code",
   "execution_count": 8,
   "id": "6b47f428",
   "metadata": {},
   "outputs": [
    {
     "name": "stdout",
     "output_type": "stream",
     "text": [
      "\u001b[38;5;246m# A tibble: 6 x 7\u001b[39m\n",
      "  time                lat_min lat_max lon_min lon_max `rain (mm/day)` model     \n",
      "  \u001b[3m\u001b[38;5;246m<dttm>\u001b[39m\u001b[23m                \u001b[3m\u001b[38;5;246m<dbl>\u001b[39m\u001b[23m   \u001b[3m\u001b[38;5;246m<dbl>\u001b[39m\u001b[23m   \u001b[3m\u001b[38;5;246m<dbl>\u001b[39m\u001b[23m   \u001b[3m\u001b[38;5;246m<dbl>\u001b[39m\u001b[23m           \u001b[3m\u001b[38;5;246m<dbl>\u001b[39m\u001b[23m \u001b[3m\u001b[38;5;246m<chr>\u001b[39m\u001b[23m     \n",
      "\u001b[38;5;250m1\u001b[39m 2014-12-26 \u001b[38;5;246m20:00:00\u001b[39m   -\u001b[31m30\u001b[39m\u001b[31m.\u001b[39m\u001b[31m2\u001b[39m   -\u001b[31m29\u001b[39m\u001b[31m.\u001b[39m\u001b[31m2\u001b[39m    153.    154.           0.435 \u001b[38;5;246m\"\u001b[39mdata\\\\Ta~\n",
      "\u001b[38;5;250m2\u001b[39m 2014-12-27 \u001b[38;5;246m20:00:00\u001b[39m   -\u001b[31m30\u001b[39m\u001b[31m.\u001b[39m\u001b[31m2\u001b[39m   -\u001b[31m29\u001b[39m\u001b[31m.\u001b[39m\u001b[31m2\u001b[39m    153.    154.           0.554 \u001b[38;5;246m\"\u001b[39mdata\\\\Ta~\n",
      "\u001b[38;5;250m3\u001b[39m 2014-12-28 \u001b[38;5;246m20:00:00\u001b[39m   -\u001b[31m30\u001b[39m\u001b[31m.\u001b[39m\u001b[31m2\u001b[39m   -\u001b[31m29\u001b[39m\u001b[31m.\u001b[39m\u001b[31m2\u001b[39m    153.    154.           7.03  \u001b[38;5;246m\"\u001b[39mdata\\\\Ta~\n",
      "\u001b[38;5;250m4\u001b[39m 2014-12-29 \u001b[38;5;246m20:00:00\u001b[39m   -\u001b[31m30\u001b[39m\u001b[31m.\u001b[39m\u001b[31m2\u001b[39m   -\u001b[31m29\u001b[39m\u001b[31m.\u001b[39m\u001b[31m2\u001b[39m    153.    154.           0.235 \u001b[38;5;246m\"\u001b[39mdata\\\\Ta~\n",
      "\u001b[38;5;250m5\u001b[39m 2014-12-30 \u001b[38;5;246m20:00:00\u001b[39m   -\u001b[31m30\u001b[39m\u001b[31m.\u001b[39m\u001b[31m2\u001b[39m   -\u001b[31m29\u001b[39m\u001b[31m.\u001b[39m\u001b[31m2\u001b[39m    153.    154.           2.10  \u001b[38;5;246m\"\u001b[39mdata\\\\Ta~\n",
      "\u001b[38;5;250m6\u001b[39m 2014-12-31 \u001b[38;5;246m20:00:00\u001b[39m   -\u001b[31m30\u001b[39m\u001b[31m.\u001b[39m\u001b[31m2\u001b[39m   -\u001b[31m29\u001b[39m\u001b[31m.\u001b[39m\u001b[31m2\u001b[39m    153.    154.           0.548 \u001b[38;5;246m\"\u001b[39mdata\\\\Ta~\n",
      "Wall time: 501 ms\n"
     ]
    }
   ],
   "source": [
    "%%time\n",
    "%%R\n",
    "tail(r_table)"
   ]
  },
  {
   "cell_type": "markdown",
   "id": "05a09a69",
   "metadata": {},
   "source": [
    "### Reflection"
   ]
  },
  {
   "cell_type": "markdown",
   "id": "2d3a72d7",
   "metadata": {},
   "source": [
    "- Challenges with downloading the data\n",
    "    - It takes really long time to download the large size of data because of the internet connection. I fail to download the data with my own VPN. I successfully download the data by using UBC VPN\n",
    "    \n",
    "- Challenges with performing a simple EDA in R\n",
    "    - It takes really long time to transfer dataframe from python to R with feather format. Like more than an hour. I try to restart PC and Jupyter Lab but doesn't work. I comment the code cell for feather format and get the conclusion that it takes longer time than the other formats."
   ]
  }
 ],
 "metadata": {
  "kernelspec": {
   "display_name": "525",
   "language": "python",
   "name": "525"
  },
  "language_info": {
   "codemirror_mode": {
    "name": "ipython",
    "version": 3
   },
   "file_extension": ".py",
   "mimetype": "text/x-python",
   "name": "python",
   "nbconvert_exporter": "python",
   "pygments_lexer": "ipython3",
   "version": "3.8.6"
  }
 },
 "nbformat": 4,
 "nbformat_minor": 5
}
