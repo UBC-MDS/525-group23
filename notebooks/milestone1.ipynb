{
 "cells": [
  {
   "cell_type": "markdown",
   "id": "8e5d407b",
   "metadata": {},
   "source": [
    "# DSCI 525 - Web and Cloud Computing"
   ]
  },
  {
   "cell_type": "markdown",
   "id": "5bedc127",
   "metadata": {},
   "source": [
    "## Milestone 1: Tackling big data on your laptop"
   ]
  },
  {
   "cell_type": "markdown",
   "id": "829b78c2",
   "metadata": {},
   "source": [
    "### Content:\n",
    "\n",
    "1. [Downloading the data](#1)\n",
    "2. [Combining data CSVs](#2)\n",
    "3. [Load the combined CSV to memory and perform a simple EDA](#3)\n",
    "4. [Perform a simple EDA in R](#4)"
   ]
  },
  {
   "cell_type": "code",
   "execution_count": 1,
   "id": "e8d1a3cd",
   "metadata": {},
   "outputs": [],
   "source": [
    "import re\n",
    "import os\n",
    "import glob\n",
    "import zipfile\n",
    "import requests\n",
    "from urllib.request import urlretrieve\n",
    "import json\n",
    "import pandas as pd\n",
    "from memory_profiler import memory_usage\n",
    "import numpy as np\n",
    "import dask.dataframe as dd\n",
    "\n",
    "import pyarrow.dataset as ds\n",
    "import rpy2_arrow.pyarrow_rarrow as pyra\n",
    "import pyarrow.feather as feather\n",
    "import pyarrow.parquet as pq"
   ]
  },
  {
   "cell_type": "code",
   "execution_count": 2,
   "id": "37fed667",
   "metadata": {},
   "outputs": [],
   "source": [
    "# %load_ext rpy2.ipython\n",
    "%load_ext memory_profiler"
   ]
  },
  {
   "cell_type": "markdown",
   "id": "c33a218f",
   "metadata": {},
   "source": [
    "<a id='1'/>\n",
    "\n",
    "### 1. Downloading the data\n",
    "\n",
    "Download and extract the _data.zip_ folder from [figshare](https://figshare.com/articles/dataset/Daily_rainfall_over_NSW_Australia/14096681)."
   ]
  },
  {
   "cell_type": "code",
   "execution_count": 3,
   "id": "79ce1db7",
   "metadata": {},
   "outputs": [],
   "source": [
    "# add metadata\n",
    "article_id = 14096681  # this is the unique identifier of the article on figshare\n",
    "url = f\"https://api.figshare.com/v2/articles/{article_id}\"\n",
    "headers = {\"Content-Type\": \"application/json\"}\n",
    "output_directory = \"data/\""
   ]
  },
  {
   "cell_type": "code",
   "execution_count": 4,
   "id": "d88d60f8",
   "metadata": {},
   "outputs": [],
   "source": [
    "# define \n",
    "response = requests.request(\"GET\", url, headers=headers)\n",
    "data = json.loads(response.text)  # this contains all the articles data\n",
    "files = data[\"files\"]             # this is just the data about the files, which is what we want"
   ]
  },
  {
   "cell_type": "code",
   "execution_count": 5,
   "id": "82235ccb",
   "metadata": {},
   "outputs": [],
   "source": [
    "# create directory if doesn't exist\n",
    "os.makedirs(output_directory, exist_ok=True)"
   ]
  },
  {
   "cell_type": "code",
   "execution_count": 14,
   "id": "b156677a",
   "metadata": {},
   "outputs": [
    {
     "name": "stdout",
     "output_type": "stream",
     "text": [
      "peak memory: 295.57 MiB, increment: 0.39 MiB\n",
      "CPU times: user 5.05 s, sys: 4.2 s, total: 9.25 s\n",
      "Wall time: 22min 31s\n"
     ]
    }
   ],
   "source": [
    "%%time\n",
    "%%memit\n",
    "\n",
    "# download data using the API\n",
    "files_to_dl = [\"data.zip\"]\n",
    "for file in files:\n",
    "    if file[\"name\"] in files_to_dl:       \n",
    "        urlretrieve(file[\"download_url\"], output_directory + file[\"name\"])"
   ]
  },
  {
   "cell_type": "code",
   "execution_count": 15,
   "id": "b92fb796",
   "metadata": {},
   "outputs": [
    {
     "name": "stdout",
     "output_type": "stream",
     "text": [
      "peak memory: 295.71 MiB, increment: 0.14 MiB\n",
      "CPU times: user 17.4 s, sys: 2.33 s, total: 19.7 s\n",
      "Wall time: 22.5 s\n"
     ]
    }
   ],
   "source": [
    "%%time\n",
    "%%memit      \n",
    "\n",
    "# unzip the files\n",
    "with zipfile.ZipFile(os.path.join(output_directory, \"data.zip\"), 'r') as f:\n",
    "    f.extractall(output_directory)\n"
   ]
  },
  {
   "cell_type": "markdown",
   "id": "e4fe8a8b",
   "metadata": {},
   "source": [
    "<a id='2'/>\n",
    "\n",
    "### 2. Combining data CSVs"
   ]
  },
  {
   "cell_type": "markdown",
   "id": "16aa86b2",
   "metadata": {},
   "source": [
    "1. [Merge the files using pandas](#combine_csv)\n",
    "2. Run times for combining CSV files for all team members (in alphabetical order):\n",
    "    - **Fatime**\n",
    "         - peak memory: 9295.53 MiB, increment: 9031.22 MiB\n",
    "         - CPU times: user 1min 3s, sys: 8.43 s, total: 1min 12s\n",
    "         - Wall time: 1min 20s\n",
    "    - **Jingjing**\n",
    "         - peak memory: 431.68 MiB, increment: 0.25 MiB\n",
    "         - CPU times: user 5min 40s, sys: 23.9 s, total: 5min 46s\n",
    "         - Wall time: 6min 27s  "
   ]
  },
  {
   "cell_type": "code",
   "execution_count": 6,
   "id": "ca84063e",
   "metadata": {},
   "outputs": [],
   "source": [
    "# all csv files\n",
    "files = glob.glob(output_directory + '*.csv')\n",
    "\n",
    "# remove csvs that are formatted differently\n",
    "files = [x for x in files if \"observed\" not in x]"
   ]
  },
  {
   "cell_type": "code",
   "execution_count": 7,
   "id": "19c79ed7",
   "metadata": {},
   "outputs": [
    {
     "data": {
      "text/plain": [
       "'data/MPI-ESM-1-2-HAM_daily_rainfall_NSW.csv'"
      ]
     },
     "execution_count": 7,
     "metadata": {},
     "output_type": "execute_result"
    }
   ],
   "source": [
    "files[0]"
   ]
  },
  {
   "cell_type": "markdown",
   "id": "586c43c0",
   "metadata": {},
   "source": [
    "<a id='combine_csv'/>   \n",
    "\n",
    "##### 1. Combine CSV files into one big CSV file"
   ]
  },
  {
   "cell_type": "code",
   "execution_count": 8,
   "id": "7a3baf8c",
   "metadata": {},
   "outputs": [],
   "source": [
    "usecols = ['time', 'lat_min', 'lat_max', 'lon_min', 'lon_max', 'rain (mm/day)']"
   ]
  },
  {
   "cell_type": "code",
   "execution_count": 9,
   "id": "37b9b8ab",
   "metadata": {},
   "outputs": [
    {
     "name": "stdout",
     "output_type": "stream",
     "text": [
      "peak memory: 9295.53 MiB, increment: 9031.22 MiB\n",
      "CPU times: user 1min 3s, sys: 8.43 s, total: 1min 12s\n",
      "Wall time: 1min 20s\n"
     ]
    }
   ],
   "source": [
    "%%time\n",
    "%%memit\n",
    "\n",
    "# create a dict of dataframes\n",
    "df = {x.split('_daily')[0].split('/')[1]: pd.read_csv(x, usecols=usecols) for x in files}\n",
    "\n",
    "# concatenate to one dataframe\n",
    "df = pd.concat(df, names=[\"model\", \"row\"])"
   ]
  },
  {
   "cell_type": "code",
   "execution_count": 10,
   "id": "ff436f01",
   "metadata": {},
   "outputs": [
    {
     "data": {
      "text/html": [
       "<div>\n",
       "<style scoped>\n",
       "    .dataframe tbody tr th:only-of-type {\n",
       "        vertical-align: middle;\n",
       "    }\n",
       "\n",
       "    .dataframe tbody tr th {\n",
       "        vertical-align: top;\n",
       "    }\n",
       "\n",
       "    .dataframe thead th {\n",
       "        text-align: right;\n",
       "    }\n",
       "</style>\n",
       "<table border=\"1\" class=\"dataframe\">\n",
       "  <thead>\n",
       "    <tr style=\"text-align: right;\">\n",
       "      <th></th>\n",
       "      <th></th>\n",
       "      <th>time</th>\n",
       "      <th>lat_min</th>\n",
       "      <th>lat_max</th>\n",
       "      <th>lon_min</th>\n",
       "      <th>lon_max</th>\n",
       "      <th>rain (mm/day)</th>\n",
       "    </tr>\n",
       "    <tr>\n",
       "      <th>model</th>\n",
       "      <th>row</th>\n",
       "      <th></th>\n",
       "      <th></th>\n",
       "      <th></th>\n",
       "      <th></th>\n",
       "      <th></th>\n",
       "      <th></th>\n",
       "    </tr>\n",
       "  </thead>\n",
       "  <tbody>\n",
       "    <tr>\n",
       "      <th rowspan=\"5\" valign=\"top\">MPI-ESM-1-2-HAM</th>\n",
       "      <th>0</th>\n",
       "      <td>1889-01-01 12:00:00</td>\n",
       "      <td>-35.439867</td>\n",
       "      <td>-33.574619</td>\n",
       "      <td>141.5625</td>\n",
       "      <td>143.4375</td>\n",
       "      <td>4.244226e-13</td>\n",
       "    </tr>\n",
       "    <tr>\n",
       "      <th>1</th>\n",
       "      <td>1889-01-02 12:00:00</td>\n",
       "      <td>-35.439867</td>\n",
       "      <td>-33.574619</td>\n",
       "      <td>141.5625</td>\n",
       "      <td>143.4375</td>\n",
       "      <td>4.217326e-13</td>\n",
       "    </tr>\n",
       "    <tr>\n",
       "      <th>2</th>\n",
       "      <td>1889-01-03 12:00:00</td>\n",
       "      <td>-35.439867</td>\n",
       "      <td>-33.574619</td>\n",
       "      <td>141.5625</td>\n",
       "      <td>143.4375</td>\n",
       "      <td>4.498125e-13</td>\n",
       "    </tr>\n",
       "    <tr>\n",
       "      <th>3</th>\n",
       "      <td>1889-01-04 12:00:00</td>\n",
       "      <td>-35.439867</td>\n",
       "      <td>-33.574619</td>\n",
       "      <td>141.5625</td>\n",
       "      <td>143.4375</td>\n",
       "      <td>4.251282e-13</td>\n",
       "    </tr>\n",
       "    <tr>\n",
       "      <th>4</th>\n",
       "      <td>1889-01-05 12:00:00</td>\n",
       "      <td>-35.439867</td>\n",
       "      <td>-33.574619</td>\n",
       "      <td>141.5625</td>\n",
       "      <td>143.4375</td>\n",
       "      <td>4.270161e-13</td>\n",
       "    </tr>\n",
       "  </tbody>\n",
       "</table>\n",
       "</div>"
      ],
      "text/plain": [
       "                                    time    lat_min    lat_max   lon_min  \\\n",
       "model           row                                                        \n",
       "MPI-ESM-1-2-HAM 0    1889-01-01 12:00:00 -35.439867 -33.574619  141.5625   \n",
       "                1    1889-01-02 12:00:00 -35.439867 -33.574619  141.5625   \n",
       "                2    1889-01-03 12:00:00 -35.439867 -33.574619  141.5625   \n",
       "                3    1889-01-04 12:00:00 -35.439867 -33.574619  141.5625   \n",
       "                4    1889-01-05 12:00:00 -35.439867 -33.574619  141.5625   \n",
       "\n",
       "                      lon_max  rain (mm/day)  \n",
       "model           row                           \n",
       "MPI-ESM-1-2-HAM 0    143.4375   4.244226e-13  \n",
       "                1    143.4375   4.217326e-13  \n",
       "                2    143.4375   4.498125e-13  \n",
       "                3    143.4375   4.251282e-13  \n",
       "                4    143.4375   4.270161e-13  "
      ]
     },
     "execution_count": 10,
     "metadata": {},
     "output_type": "execute_result"
    }
   ],
   "source": [
    "df.head()"
   ]
  },
  {
   "cell_type": "code",
   "execution_count": 12,
   "id": "b470fef3",
   "metadata": {},
   "outputs": [
    {
     "data": {
      "text/html": [
       "<div>\n",
       "<style scoped>\n",
       "    .dataframe tbody tr th:only-of-type {\n",
       "        vertical-align: middle;\n",
       "    }\n",
       "\n",
       "    .dataframe tbody tr th {\n",
       "        vertical-align: top;\n",
       "    }\n",
       "\n",
       "    .dataframe thead th {\n",
       "        text-align: right;\n",
       "    }\n",
       "</style>\n",
       "<table border=\"1\" class=\"dataframe\">\n",
       "  <thead>\n",
       "    <tr style=\"text-align: right;\">\n",
       "      <th></th>\n",
       "      <th></th>\n",
       "      <th>time</th>\n",
       "      <th>lat_min</th>\n",
       "      <th>lat_max</th>\n",
       "      <th>lon_min</th>\n",
       "      <th>lon_max</th>\n",
       "      <th>rain (mm/day)</th>\n",
       "    </tr>\n",
       "    <tr>\n",
       "      <th>model</th>\n",
       "      <th>row</th>\n",
       "      <th></th>\n",
       "      <th></th>\n",
       "      <th></th>\n",
       "      <th></th>\n",
       "      <th></th>\n",
       "      <th></th>\n",
       "    </tr>\n",
       "  </thead>\n",
       "  <tbody>\n",
       "    <tr>\n",
       "      <th rowspan=\"5\" valign=\"top\">SAM0-UNICON</th>\n",
       "      <th>3541148</th>\n",
       "      <td>2014-12-27 12:00:00</td>\n",
       "      <td>-30.157068</td>\n",
       "      <td>-29.21466</td>\n",
       "      <td>153.125</td>\n",
       "      <td>154.375</td>\n",
       "      <td>6.689683</td>\n",
       "    </tr>\n",
       "    <tr>\n",
       "      <th>3541149</th>\n",
       "      <td>2014-12-28 12:00:00</td>\n",
       "      <td>-30.157068</td>\n",
       "      <td>-29.21466</td>\n",
       "      <td>153.125</td>\n",
       "      <td>154.375</td>\n",
       "      <td>7.862555</td>\n",
       "    </tr>\n",
       "    <tr>\n",
       "      <th>3541150</th>\n",
       "      <td>2014-12-29 12:00:00</td>\n",
       "      <td>-30.157068</td>\n",
       "      <td>-29.21466</td>\n",
       "      <td>153.125</td>\n",
       "      <td>154.375</td>\n",
       "      <td>10.005026</td>\n",
       "    </tr>\n",
       "    <tr>\n",
       "      <th>3541151</th>\n",
       "      <td>2014-12-30 12:00:00</td>\n",
       "      <td>-30.157068</td>\n",
       "      <td>-29.21466</td>\n",
       "      <td>153.125</td>\n",
       "      <td>154.375</td>\n",
       "      <td>8.541592</td>\n",
       "    </tr>\n",
       "    <tr>\n",
       "      <th>3541152</th>\n",
       "      <td>2014-12-31 12:00:00</td>\n",
       "      <td>-30.157068</td>\n",
       "      <td>-29.21466</td>\n",
       "      <td>153.125</td>\n",
       "      <td>154.375</td>\n",
       "      <td>68.117489</td>\n",
       "    </tr>\n",
       "  </tbody>\n",
       "</table>\n",
       "</div>"
      ],
      "text/plain": [
       "                                    time    lat_min   lat_max  lon_min  \\\n",
       "model       row                                                          \n",
       "SAM0-UNICON 3541148  2014-12-27 12:00:00 -30.157068 -29.21466  153.125   \n",
       "            3541149  2014-12-28 12:00:00 -30.157068 -29.21466  153.125   \n",
       "            3541150  2014-12-29 12:00:00 -30.157068 -29.21466  153.125   \n",
       "            3541151  2014-12-30 12:00:00 -30.157068 -29.21466  153.125   \n",
       "            3541152  2014-12-31 12:00:00 -30.157068 -29.21466  153.125   \n",
       "\n",
       "                     lon_max  rain (mm/day)  \n",
       "model       row                              \n",
       "SAM0-UNICON 3541148  154.375       6.689683  \n",
       "            3541149  154.375       7.862555  \n",
       "            3541150  154.375      10.005026  \n",
       "            3541151  154.375       8.541592  \n",
       "            3541152  154.375      68.117489  "
      ]
     },
     "execution_count": 12,
     "metadata": {},
     "output_type": "execute_result"
    }
   ],
   "source": [
    "df.tail()"
   ]
  },
  {
   "cell_type": "code",
   "execution_count": null,
   "id": "e072a41a",
   "metadata": {},
   "outputs": [],
   "source": [
    "df.to_csv('combined.csv')"
   ]
  },
  {
   "cell_type": "markdown",
   "id": "40c664c1",
   "metadata": {},
   "source": [
    "<a id='3'/>\n",
    "\n",
    "### 3. Load the combined CSV to memory and perform a simple EDA"
   ]
  },
  {
   "cell_type": "markdown",
   "id": "ab4cc2bb",
   "metadata": {},
   "source": [
    "##### 1. Investigate at least two of the following approaches to reduce memory usage while performing the EDA (e.g., value_counts).\n",
    "- Changing dtype of your data\n",
    "- Load just columns what we want\n",
    "- Loading in chunks\n",
    "- Dask\n",
    "\n",
    "##### 2. Discuss your observations."
   ]
  },
  {
   "cell_type": "markdown",
   "id": "6e952d27",
   "metadata": {},
   "source": [
    "<a id='4'/>\n",
    "\n",
    "\n",
    "### 4. Perform a simple EDA in R"
   ]
  },
  {
   "cell_type": "markdown",
   "id": "a45bb125",
   "metadata": {},
   "source": [
    "##### Pick an approach to transfer the dataframe from python to R.\n",
    "Parquet file\n",
    "Feather file\n",
    "Pandas exchange\n",
    "Arrow exchange\n",
    "Discuss why you chose this approach over others."
   ]
  },
  {
   "cell_type": "markdown",
   "id": "6d2497a2",
   "metadata": {},
   "source": [
    "##### Pandas format"
   ]
  },
  {
   "cell_type": "code",
   "execution_count": 4,
   "id": "84d8b577",
   "metadata": {},
   "outputs": [
    {
     "name": "stdout",
     "output_type": "stream",
     "text": [
      "peak memory: 412.40 MiB, increment: 136.86 MiB\n",
      "Wall time: 1.7 s\n"
     ]
    }
   ],
   "source": [
    "%%time\n",
    "%%memit\n",
    "df = pd.read_csv(\"combined.csv\", nrows=1_000_000)"
   ]
  },
  {
   "cell_type": "markdown",
   "id": "f97b9584",
   "metadata": {},
   "source": [
    "##### Arrow format"
   ]
  },
  {
   "cell_type": "code",
   "execution_count": 8,
   "id": "27a63304",
   "metadata": {},
   "outputs": [
    {
     "name": "stdout",
     "output_type": "stream",
     "text": [
      "peak memory: 4552.66 MiB, increment: 4181.79 MiB\n",
      "Wall time: 36.5 s\n"
     ]
    }
   ],
   "source": [
    "%%time\n",
    "%%memit\n",
    "dataset = ds.dataset(\"combined.csv\", format=\"csv\")\n",
    "table = dataset.to_table()"
   ]
  },
  {
   "cell_type": "markdown",
   "id": "69a1cb1d",
   "metadata": {},
   "source": [
    "##### Feather format"
   ]
  },
  {
   "cell_type": "code",
   "execution_count": 9,
   "id": "d1be2e7f",
   "metadata": {},
   "outputs": [
    {
     "name": "stdout",
     "output_type": "stream",
     "text": [
      "peak memory: 4566.12 MiB, increment: 13.46 MiB\n",
      "Wall time: 4.93 s\n"
     ]
    }
   ],
   "source": [
    "%%time\n",
    "%%memit\n",
    "feather.write_feather(table, 'combined.feather')"
   ]
  },
  {
   "cell_type": "markdown",
   "id": "f14a35c9",
   "metadata": {},
   "source": [
    "##### Parquet format"
   ]
  },
  {
   "cell_type": "code",
   "execution_count": 10,
   "id": "b33e24d7",
   "metadata": {},
   "outputs": [
    {
     "name": "stdout",
     "output_type": "stream",
     "text": [
      "peak memory: 4708.31 MiB, increment: 142.86 MiB\n",
      "Wall time: 16.5 s\n"
     ]
    }
   ],
   "source": [
    "%%time\n",
    "%%memit\n",
    "pq.write_table(table, 'combined.parquet')"
   ]
  },
  {
   "cell_type": "code",
   "execution_count": 11,
   "id": "9e452333",
   "metadata": {},
   "outputs": [
    {
     "name": "stdout",
     "output_type": "stream",
     "text": [
      "6.0G\tcombined.csv\n",
      "1.1G\tcombined.feather\n",
      "542M\tcombined.parquet\n"
     ]
    }
   ],
   "source": [
    "%%sh\n",
    "# csv data\n",
    "du -sh combined.csv\n",
    "\n",
    "# feather data\n",
    "du -sh combined.feather\n",
    "\n",
    "# parquet data\n",
    "du -sh combined.parquet"
   ]
  },
  {
   "cell_type": "markdown",
   "id": "eaf58344",
   "metadata": {},
   "source": [
    "#### Transfer the dataframe from python to R and perform EDA"
   ]
  },
  {
   "cell_type": "code",
   "execution_count": 13,
   "id": "e557e937",
   "metadata": {},
   "outputs": [],
   "source": [
    "%%R\n",
    "library(dplyr)\n",
    "library(arrow)"
   ]
  },
  {
   "cell_type": "markdown",
   "id": "f675d327",
   "metadata": {},
   "source": [
    "##### Pandas"
   ]
  },
  {
   "cell_type": "code",
   "execution_count": 14,
   "id": "2b4fcb73",
   "metadata": {},
   "outputs": [
    {
     "name": "stdout",
     "output_type": "stream",
     "text": [
      "[1] \"data.frame\"\n",
      "     time              lat_min          lat_max          lon_min     \n",
      " Length:1000000     Min.   :-36.25   Min.   :-35.00   Min.   :140.6  \n",
      " Class :character   1st Qu.:-36.25   1st Qu.:-35.00   1st Qu.:142.5  \n",
      " Mode  :character   Median :-35.00   Median :-33.75   Median :146.2  \n",
      "                    Mean   :-34.92   Mean   :-33.67   Mean   :146.1  \n",
      "                    3rd Qu.:-33.75   3rd Qu.:-32.50   3rd Qu.:150.0  \n",
      "                    Max.   :-32.50   Max.   :-31.25   Max.   :151.9  \n",
      "    lon_max      rain (mm/day)         model          \n",
      " Min.   :142.5   Min.   :  0.0000   Length:1000000    \n",
      " 1st Qu.:144.4   1st Qu.:  0.0082   Class :character  \n",
      " Median :148.1   Median :  0.1190   Mode  :character  \n",
      " Mean   :147.9   Mean   :  1.7961                     \n",
      " 3rd Qu.:151.9   3rd Qu.:  0.8148                     \n",
      " Max.   :153.8   Max.   :432.9395                     \n",
      "Time difference of 0.2850361 secs\n",
      "Wall time: 46.2 s\n"
     ]
    }
   ],
   "source": [
    "%%time\n",
    "%%R -i df\n",
    "\n",
    "start_time <- Sys.time()\n",
    "print(class(df))\n",
    "result <- df %>% collect() %>% summary()\n",
    "end_time <- Sys.time()\n",
    "print(result)\n",
    "print(end_time - start_time)"
   ]
  },
  {
   "cell_type": "markdown",
   "id": "03ffbfad",
   "metadata": {},
   "source": [
    "##### Arrow"
   ]
  },
  {
   "cell_type": "code",
   "execution_count": 15,
   "id": "6601ff7a",
   "metadata": {},
   "outputs": [
    {
     "name": "stdout",
     "output_type": "stream",
     "text": [
      "6052\n",
      "rarrow.ChunkedArray: 0.0380098819732666\n",
      "6052\n",
      "rarrow.ChunkedArray: 0.028034687042236328\n",
      "6052\n",
      "rarrow.ChunkedArray: 0.03199338912963867\n",
      "6052\n",
      "rarrow.ChunkedArray: 0.048981428146362305\n",
      "6052\n",
      "rarrow.ChunkedArray: 0.0460052490234375\n",
      "6052\n",
      "rarrow.ChunkedArray: 0.029996156692504883\n",
      "6052\n",
      "rarrow.ChunkedArray: 0.030958175659179688\n"
     ]
    }
   ],
   "source": [
    "r_table = pyra.converter.py2rpy(table)"
   ]
  },
  {
   "cell_type": "code",
   "execution_count": 16,
   "id": "3d5f3c22",
   "metadata": {},
   "outputs": [
    {
     "name": "stdout",
     "output_type": "stream",
     "text": [
      "[1] \"Table\"       \"ArrowObject\" \"R6\"         \n",
      "[1] \"tbl_df\"     \"tbl\"        \"data.frame\"\n",
      "      time                        lat_min           lat_max      \n",
      " Min.   :1889-01-01 08:06:00   Min.   :-36       Min.   :-36.00  \n",
      " 1st Qu.:1920-07-02 20:00:00   1st Qu.:-35       1st Qu.:-33.66  \n",
      " Median :1952-01-01 20:00:00   Median :-33       Median :-32.04  \n",
      " Mean   :1952-01-02 00:32:09   Mean   :-33       Mean   :-31.98  \n",
      " 3rd Qu.:1983-07-02 20:00:00   3rd Qu.:-31       3rd Qu.:-30.16  \n",
      " Max.   :2014-12-31 20:00:00   Max.   :-30       Max.   :-27.91  \n",
      "                               NA's   :3219300                   \n",
      "    lon_min           lon_max      rain (mm/day)        model          \n",
      " Min.   :141       Min.   :141.2   Min.   :  0       Length:62467843   \n",
      " 1st Qu.:143       1st Qu.:145.0   1st Qu.:  0       Class :character  \n",
      " Median :147       Median :148.1   Median :  0       Mode  :character  \n",
      " Mean   :147       Mean   :148.2   Mean   :  2                         \n",
      " 3rd Qu.:150       3rd Qu.:151.3   3rd Qu.:  1                         \n",
      " Max.   :154       Max.   :155.6   Max.   :433                         \n",
      " NA's   :3219300                   NA's   :3219300                     \n",
      "Time difference of 36.8867 secs\n",
      "Wall time: 37 s\n"
     ]
    }
   ],
   "source": [
    "%%time\n",
    "%%R -i r_table\n",
    "\n",
    "start_time <- Sys.time()\n",
    "print(class(r_table))\n",
    "result <- r_table %>% collect() %>% summary()\n",
    "print(class(r_table %>% collect()))\n",
    "end_time <- Sys.time()\n",
    "print(result)\n",
    "print(end_time - start_time)"
   ]
  },
  {
   "cell_type": "markdown",
   "id": "063335f8",
   "metadata": {},
   "source": [
    "##### Feather format"
   ]
  },
  {
   "cell_type": "code",
   "execution_count": null,
   "id": "6422b310",
   "metadata": {},
   "outputs": [],
   "source": [
    "# %%time\n",
    "# %%R\n",
    "# start_time <- Sys.time()\n",
    "# r_table <- arrow::read_feather(\"combined.feather\")\n",
    "# print(class(r_table))\n",
    "# result <- r_table %>% summary()\n",
    "# end_time <- Sys.time()\n",
    "# print(result)\n",
    "# print(end_time - start_time)"
   ]
  },
  {
   "cell_type": "markdown",
   "id": "abd74db7",
   "metadata": {},
   "source": [
    "##### Parquet format"
   ]
  },
  {
   "cell_type": "code",
   "execution_count": 5,
   "id": "e66397b9",
   "metadata": {},
   "outputs": [
    {
     "name": "stdout",
     "output_type": "stream",
     "text": [
      "[1] \"tbl_df\"     \"tbl\"        \"data.frame\"\n"
     ]
    },
    {
     "name": "stderr",
     "output_type": "stream",
     "text": [
      "R[write to console]: \n",
      "Attaching package: 'dplyr'\n",
      "\n",
      "\n",
      "R[write to console]: The following objects are masked from 'package:stats':\n",
      "\n",
      "    filter, lag\n",
      "\n",
      "\n",
      "R[write to console]: The following objects are masked from 'package:base':\n",
      "\n",
      "    intersect, setdiff, setequal, union\n",
      "\n",
      "\n"
     ]
    },
    {
     "name": "stdout",
     "output_type": "stream",
     "text": [
      "      time                        lat_min           lat_max      \n",
      " Min.   :1889-01-01 08:06:00   Min.   :-36       Min.   :-36.00  \n",
      " 1st Qu.:1920-07-02 20:00:00   1st Qu.:-35       1st Qu.:-33.66  \n",
      " Median :1952-01-01 20:00:00   Median :-33       Median :-32.04  \n",
      " Mean   :1952-01-02 00:32:09   Mean   :-33       Mean   :-31.98  \n",
      " 3rd Qu.:1983-07-02 20:00:00   3rd Qu.:-31       3rd Qu.:-30.16  \n",
      " Max.   :2014-12-31 20:00:00   Max.   :-30       Max.   :-27.91  \n",
      "                               NA's   :3219300                   \n",
      "    lon_min           lon_max      rain (mm/day)        model          \n",
      " Min.   :141       Min.   :141.2   Min.   :  0       Length:62467843   \n",
      " 1st Qu.:143       1st Qu.:145.0   1st Qu.:  0       Class :character  \n",
      " Median :147       Median :148.1   Median :  0       Mode  :character  \n",
      " Mean   :147       Mean   :148.2   Mean   :  2                         \n",
      " 3rd Qu.:150       3rd Qu.:151.3   3rd Qu.:  1                         \n",
      " Max.   :154       Max.   :155.6   Max.   :433                         \n",
      " NA's   :3219300                   NA's   :3219300                     \n",
      "Time difference of 43.91868 secs\n",
      "Wall time: 44.1 s\n"
     ]
    }
   ],
   "source": [
    "%%time\n",
    "%%R\n",
    "\n",
    "start_time <- Sys.time()\n",
    "r_table <- arrow::read_parquet(\"combined.parquet\")\n",
    "print(class(r_table))\n",
    "library(dplyr)\n",
    "result <- r_table %>% summary()\n",
    "end_time <- Sys.time()\n",
    "print(result)\n",
    "print(end_time - start_time)"
   ]
  },
  {
   "cell_type": "markdown",
   "id": "93f499b8",
   "metadata": {},
   "source": [
    "#### Discussion"
   ]
  },
  {
   "cell_type": "markdown",
   "id": "0b0eba26",
   "metadata": {},
   "source": [
    "From above results, our group would choose parquet format to transfer the dataframe from python to R. First, the file size of our combined data is 542M with parquet format, which is much smaller than the file sizes with csv (6.0G) and feather (1.1G) format. Second, the wall time for parquet format is shorter than the wall time for feather format. The wall time for csv is a little bit shorter than the wall time for parquet. However, consider both the file size and speed, it would be better and reasonable to choose parquet format to transfer the dataframe from python to R."
   ]
  },
  {
   "cell_type": "markdown",
   "id": "d56db086",
   "metadata": {},
   "source": [
    "##### More simpe EDA with Parquet format"
   ]
  },
  {
   "cell_type": "code",
   "execution_count": 6,
   "id": "fe14376f",
   "metadata": {},
   "outputs": [
    {
     "name": "stdout",
     "output_type": "stream",
     "text": [
      "[1] \"tbl_df\"     \"tbl\"        \"data.frame\"\n",
      "Wall time: 9.31 s\n"
     ]
    }
   ],
   "source": [
    "%%time\n",
    "%%R\n",
    "r_table <- arrow::read_parquet(\"combined.parquet\")\n",
    "class(r_table)"
   ]
  },
  {
   "cell_type": "code",
   "execution_count": 7,
   "id": "645ba754",
   "metadata": {},
   "outputs": [
    {
     "name": "stdout",
     "output_type": "stream",
     "text": [
      "\u001b[38;5;246m# A tibble: 6 x 7\u001b[39m\n",
      "  time                lat_min lat_max lon_min lon_max `rain (mm/day)` model     \n",
      "  \u001b[3m\u001b[38;5;246m<dttm>\u001b[39m\u001b[23m                \u001b[3m\u001b[38;5;246m<dbl>\u001b[39m\u001b[23m   \u001b[3m\u001b[38;5;246m<dbl>\u001b[39m\u001b[23m   \u001b[3m\u001b[38;5;246m<dbl>\u001b[39m\u001b[23m   \u001b[3m\u001b[38;5;246m<dbl>\u001b[39m\u001b[23m           \u001b[3m\u001b[38;5;246m<dbl>\u001b[39m\u001b[23m \u001b[3m\u001b[38;5;246m<chr>\u001b[39m\u001b[23m     \n",
      "\u001b[38;5;250m1\u001b[39m 1889-01-01 \u001b[38;5;246m20:06:00\u001b[39m   -\u001b[31m36\u001b[39m\u001b[31m.\u001b[39m\u001b[31m2\u001b[39m     -\u001b[31m35\u001b[39m    141.    142.        3.29\u001b[38;5;246me\u001b[39m\u001b[31m-13\u001b[39m \u001b[38;5;246m\"\u001b[39mdata\\\\AC~\n",
      "\u001b[38;5;250m2\u001b[39m 1889-01-02 \u001b[38;5;246m20:06:00\u001b[39m   -\u001b[31m36\u001b[39m\u001b[31m.\u001b[39m\u001b[31m2\u001b[39m     -\u001b[31m35\u001b[39m    141.    142.        0.  \u001b[38;5;246m \u001b[39m    \u001b[38;5;246m\"\u001b[39mdata\\\\AC~\n",
      "\u001b[38;5;250m3\u001b[39m 1889-01-03 \u001b[38;5;246m20:06:00\u001b[39m   -\u001b[31m36\u001b[39m\u001b[31m.\u001b[39m\u001b[31m2\u001b[39m     -\u001b[31m35\u001b[39m    141.    142.        0.  \u001b[38;5;246m \u001b[39m    \u001b[38;5;246m\"\u001b[39mdata\\\\AC~\n",
      "\u001b[38;5;250m4\u001b[39m 1889-01-04 \u001b[38;5;246m20:06:00\u001b[39m   -\u001b[31m36\u001b[39m\u001b[31m.\u001b[39m\u001b[31m2\u001b[39m     -\u001b[31m35\u001b[39m    141.    142.        0.  \u001b[38;5;246m \u001b[39m    \u001b[38;5;246m\"\u001b[39mdata\\\\AC~\n",
      "\u001b[38;5;250m5\u001b[39m 1889-01-05 \u001b[38;5;246m20:06:00\u001b[39m   -\u001b[31m36\u001b[39m\u001b[31m.\u001b[39m\u001b[31m2\u001b[39m     -\u001b[31m35\u001b[39m    141.    142.        1.05\u001b[38;5;246me\u001b[39m\u001b[31m- 2\u001b[39m \u001b[38;5;246m\"\u001b[39mdata\\\\AC~\n",
      "\u001b[38;5;250m6\u001b[39m 1889-01-06 \u001b[38;5;246m20:06:00\u001b[39m   -\u001b[31m36\u001b[39m\u001b[31m.\u001b[39m\u001b[31m2\u001b[39m     -\u001b[31m35\u001b[39m    141.    142.        3.29\u001b[38;5;246me\u001b[39m\u001b[31m- 2\u001b[39m \u001b[38;5;246m\"\u001b[39mdata\\\\AC~\n",
      "Wall time: 3.17 s\n"
     ]
    }
   ],
   "source": [
    "%%time\n",
    "%%R\n",
    "head(r_table)"
   ]
  },
  {
   "cell_type": "code",
   "execution_count": 8,
   "id": "f4cde8b0",
   "metadata": {},
   "outputs": [
    {
     "name": "stdout",
     "output_type": "stream",
     "text": [
      "\u001b[38;5;246m# A tibble: 6 x 7\u001b[39m\n",
      "  time                lat_min lat_max lon_min lon_max `rain (mm/day)` model     \n",
      "  \u001b[3m\u001b[38;5;246m<dttm>\u001b[39m\u001b[23m                \u001b[3m\u001b[38;5;246m<dbl>\u001b[39m\u001b[23m   \u001b[3m\u001b[38;5;246m<dbl>\u001b[39m\u001b[23m   \u001b[3m\u001b[38;5;246m<dbl>\u001b[39m\u001b[23m   \u001b[3m\u001b[38;5;246m<dbl>\u001b[39m\u001b[23m           \u001b[3m\u001b[38;5;246m<dbl>\u001b[39m\u001b[23m \u001b[3m\u001b[38;5;246m<chr>\u001b[39m\u001b[23m     \n",
      "\u001b[38;5;250m1\u001b[39m 2014-12-26 \u001b[38;5;246m20:00:00\u001b[39m   -\u001b[31m30\u001b[39m\u001b[31m.\u001b[39m\u001b[31m2\u001b[39m   -\u001b[31m29\u001b[39m\u001b[31m.\u001b[39m\u001b[31m2\u001b[39m    153.    154.           0.435 \u001b[38;5;246m\"\u001b[39mdata\\\\Ta~\n",
      "\u001b[38;5;250m2\u001b[39m 2014-12-27 \u001b[38;5;246m20:00:00\u001b[39m   -\u001b[31m30\u001b[39m\u001b[31m.\u001b[39m\u001b[31m2\u001b[39m   -\u001b[31m29\u001b[39m\u001b[31m.\u001b[39m\u001b[31m2\u001b[39m    153.    154.           0.554 \u001b[38;5;246m\"\u001b[39mdata\\\\Ta~\n",
      "\u001b[38;5;250m3\u001b[39m 2014-12-28 \u001b[38;5;246m20:00:00\u001b[39m   -\u001b[31m30\u001b[39m\u001b[31m.\u001b[39m\u001b[31m2\u001b[39m   -\u001b[31m29\u001b[39m\u001b[31m.\u001b[39m\u001b[31m2\u001b[39m    153.    154.           7.03  \u001b[38;5;246m\"\u001b[39mdata\\\\Ta~\n",
      "\u001b[38;5;250m4\u001b[39m 2014-12-29 \u001b[38;5;246m20:00:00\u001b[39m   -\u001b[31m30\u001b[39m\u001b[31m.\u001b[39m\u001b[31m2\u001b[39m   -\u001b[31m29\u001b[39m\u001b[31m.\u001b[39m\u001b[31m2\u001b[39m    153.    154.           0.235 \u001b[38;5;246m\"\u001b[39mdata\\\\Ta~\n",
      "\u001b[38;5;250m5\u001b[39m 2014-12-30 \u001b[38;5;246m20:00:00\u001b[39m   -\u001b[31m30\u001b[39m\u001b[31m.\u001b[39m\u001b[31m2\u001b[39m   -\u001b[31m29\u001b[39m\u001b[31m.\u001b[39m\u001b[31m2\u001b[39m    153.    154.           2.10  \u001b[38;5;246m\"\u001b[39mdata\\\\Ta~\n",
      "\u001b[38;5;250m6\u001b[39m 2014-12-31 \u001b[38;5;246m20:00:00\u001b[39m   -\u001b[31m30\u001b[39m\u001b[31m.\u001b[39m\u001b[31m2\u001b[39m   -\u001b[31m29\u001b[39m\u001b[31m.\u001b[39m\u001b[31m2\u001b[39m    153.    154.           0.548 \u001b[38;5;246m\"\u001b[39mdata\\\\Ta~\n",
      "Wall time: 501 ms\n"
     ]
    }
   ],
   "source": [
    "%%time\n",
    "%%R\n",
    "tail(r_table)"
   ]
  },
  {
   "cell_type": "markdown",
   "id": "7afac364",
   "metadata": {},
   "source": [
    "### Reflection"
   ]
  },
  {
   "cell_type": "markdown",
   "id": "f14141f4",
   "metadata": {},
   "source": [
    "- Challenges with downloading the data\n",
    "    - It takes really long time to download the large size of data because of the internet connection. I fail to download the data with my own VPN. I successfully download the data by using UBC VPN\n",
    "    \n",
    "- Challenges with performing a simple EDA in R\n",
    "    - It takes really long time to transfer dataframe from python to R with feather format. Like more than an hour. I try to restart PC and Jupyter Lab but doesn't work. I comment the code cell for feather format and get the conclusion that it takes longer time than the other formats."
   ]
  }
 ],
 "metadata": {
  "kernelspec": {
   "display_name": "525",
   "language": "python",
   "name": "525"
  },
  "language_info": {
   "codemirror_mode": {
    "name": "ipython",
    "version": 3
   },
   "file_extension": ".py",
   "mimetype": "text/x-python",
   "name": "python",
   "nbconvert_exporter": "python",
   "pygments_lexer": "ipython3",
   "version": "3.8.6"
  }
 },
 "nbformat": 4,
 "nbformat_minor": 5
}
