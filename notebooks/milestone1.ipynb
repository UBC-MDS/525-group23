{
 "cells": [
  {
   "cell_type": "code",
   "execution_count": 1,
   "metadata": {},
   "outputs": [],
   "source": [
    "import re\n",
    "import os\n",
    "import glob\n",
    "import zipfile\n",
    "import requests\n",
    "from urllib.request import urlretrieve\n",
    "import json\n",
    "import pandas as pd\n",
    "from memory_profiler import memory_usage\n",
    "\n",
    "import dask.dataframe as dd\n",
    "\n",
    "import pyarrow.dataset as ds\n",
    "import rpy2_arrow.pyarrow_rarrow as pyra\n",
    "import pyarrow.feather as feather\n",
    "import pyarrow.parquet as pq"
   ]
  },
  {
   "cell_type": "code",
   "execution_count": 3,
   "metadata": {},
   "outputs": [
    {
     "name": "stdout",
     "output_type": "stream",
     "text": [
      "The rpy2.ipython extension is already loaded. To reload it, use:\n",
      "  %reload_ext rpy2.ipython\n",
      "The memory_profiler extension is already loaded. To reload it, use:\n",
      "  %reload_ext memory_profiler\n"
     ]
    }
   ],
   "source": [
    "%load_ext rpy2.ipython\n",
    "%load_ext memory_profiler"
   ]
  },
  {
   "cell_type": "markdown",
   "metadata": {},
   "source": [
    "# DSCI 525 - Web and Cloud Computing"
   ]
  },
  {
   "cell_type": "markdown",
   "metadata": {},
   "source": [
    "## Milestone 1: Tackling big data on your laptop"
   ]
  },
  {
   "cell_type": "markdown",
   "metadata": {},
   "source": [
    "### 1. Downloading the data\n",
    "\n",
    "Download and extract the data.zip folder from figshare"
   ]
  },
  {
   "cell_type": "code",
   "execution_count": 4,
   "metadata": {},
   "outputs": [
    {
     "name": "stdout",
     "output_type": "stream",
     "text": [
      "peak memory: 278.85 MiB, increment: 3.40 MiB\n",
      "Wall time: 7min 59s\n"
     ]
    }
   ],
   "source": [
    "%%time\n",
    "%%memit\n",
    "\n",
    "article_id = 14096681  # this is the unique identifier of the article on figshare\n",
    "url = f\"https://api.figshare.com/v2/articles/{article_id}\"\n",
    "headers = {\"Content-Type\": \"application/json\"}\n",
    "output_directory = \"data/\"\n",
    "\n",
    "response = requests.request(\"GET\", url, headers=headers)\n",
    "data = json.loads(response.text)  # this contains all the articles data, feel free to check it out\n",
    "files = data[\"files\"]             # this is just the data about the files, which is what we want\n",
    "\n",
    "files_to_dl = [\"data.zip\"]\n",
    "for file in files:\n",
    "    if file[\"name\"] in files_to_dl:\n",
    "        os.makedirs(output_directory, exist_ok=True)\n",
    "        urlretrieve(file[\"download_url\"], output_directory + file[\"name\"])"
   ]
  },
  {
   "cell_type": "code",
   "execution_count": 5,
   "metadata": {},
   "outputs": [
    {
     "name": "stdout",
     "output_type": "stream",
     "text": [
      "peak memory: 283.99 MiB, increment: 6.42 MiB\n",
      "Wall time: 25.7 s\n"
     ]
    }
   ],
   "source": [
    "%%time\n",
    "%%memit      \n",
    "with zipfile.ZipFile(os.path.join(output_directory, \"data.zip\"), 'r') as f:\n",
    "    f.extractall(output_directory)\n",
    "    \n",
    "os.remove(\"data/data.zip\")\n",
    "os.remove(\"data/observed_daily_rainfall_SYD.csv\")"
   ]
  },
  {
   "cell_type": "markdown",
   "metadata": {},
   "source": [
    "### 2. Combining data CSVs"
   ]
  },
  {
   "cell_type": "markdown",
   "metadata": {},
   "source": [
    "- Merge the files using pandas\n",
    "- Run times for combining CSV files\n",
    "\n",
    "  - *Jingjing*\n",
    "         - peak memory: 431.68 MiB, increment: 0.25 MiB\n",
    "         - CPU times: user 5min 40s, sys: 23.9 s, total: 5min 46s\n",
    "         - Wall time: 6min 27s  "
   ]
  },
  {
   "cell_type": "code",
   "execution_count": 6,
   "metadata": {},
   "outputs": [],
   "source": [
    "use_cols = ['time', 'lat_min', 'lat_max', 'lon_min', 'lon_max', 'rain (mm/day)']\n",
    "files = glob.glob('data/*.csv')\n",
    "df = pd.concat((pd.read_csv(file, index_col=0, usecols=use_cols)\n",
    "                .assign(model=re.findall(r'^[^_]+(?=_)', file)[0])\n",
    "                for file in files)\n",
    "              )"
   ]
  },
  {
   "cell_type": "markdown",
   "metadata": {},
   "source": [
    "Save the combined dataframe"
   ]
  },
  {
   "cell_type": "code",
   "execution_count": 14,
   "metadata": {},
   "outputs": [],
   "source": [
    "df.to_csv('combined.csv')"
   ]
  },
  {
   "cell_type": "markdown",
   "metadata": {},
   "source": [
    "### 4. Perform a simple EDA in R"
   ]
  },
  {
   "cell_type": "markdown",
   "metadata": {},
   "source": [
    "##### Pandas format"
   ]
  },
  {
   "cell_type": "code",
   "execution_count": 4,
   "metadata": {},
   "outputs": [
    {
     "name": "stdout",
     "output_type": "stream",
     "text": [
      "peak memory: 412.40 MiB, increment: 136.86 MiB\n",
      "Wall time: 1.7 s\n"
     ]
    }
   ],
   "source": [
    "%%time\n",
    "%%memit\n",
    "df = pd.read_csv(\"combined.csv\", nrows=1_000_000)"
   ]
  },
  {
   "cell_type": "markdown",
   "metadata": {},
   "source": [
    "##### Arrow format"
   ]
  },
  {
   "cell_type": "code",
   "execution_count": 8,
   "metadata": {},
   "outputs": [
    {
     "name": "stdout",
     "output_type": "stream",
     "text": [
      "peak memory: 4552.66 MiB, increment: 4181.79 MiB\n",
      "Wall time: 36.5 s\n"
     ]
    }
   ],
   "source": [
    "%%time\n",
    "%%memit\n",
    "dataset = ds.dataset(\"combined.csv\", format=\"csv\")\n",
    "table = dataset.to_table()"
   ]
  },
  {
   "cell_type": "markdown",
   "metadata": {},
   "source": [
    "##### Feather format"
   ]
  },
  {
   "cell_type": "code",
   "execution_count": 9,
   "metadata": {},
   "outputs": [
    {
     "name": "stdout",
     "output_type": "stream",
     "text": [
      "peak memory: 4566.12 MiB, increment: 13.46 MiB\n",
      "Wall time: 4.93 s\n"
     ]
    }
   ],
   "source": [
    "%%time\n",
    "%%memit\n",
    "feather.write_feather(table, 'combined.feather')"
   ]
  },
  {
   "cell_type": "markdown",
   "metadata": {},
   "source": [
    "##### Parquet format"
   ]
  },
  {
   "cell_type": "code",
   "execution_count": 10,
   "metadata": {},
   "outputs": [
    {
     "name": "stdout",
     "output_type": "stream",
     "text": [
      "peak memory: 4708.31 MiB, increment: 142.86 MiB\n",
      "Wall time: 16.5 s\n"
     ]
    }
   ],
   "source": [
    "%%time\n",
    "%%memit\n",
    "pq.write_table(table, 'combined.parquet')"
   ]
  },
  {
   "cell_type": "code",
   "execution_count": 11,
   "metadata": {},
   "outputs": [
    {
     "name": "stdout",
     "output_type": "stream",
     "text": [
      "6.0G\tcombined.csv\n",
      "1.1G\tcombined.feather\n",
      "542M\tcombined.parquet\n"
     ]
    }
   ],
   "source": [
    "%%sh\n",
    "# csv data\n",
    "du -sh combined.csv\n",
    "\n",
    "# feather data\n",
    "du -sh combined.feather\n",
    "\n",
    "# parquet data\n",
    "du -sh combined.parquet"
   ]
  },
  {
   "cell_type": "markdown",
   "metadata": {},
   "source": [
    "#### Transfer the dataframe from python to R and perform EDA"
   ]
  },
  {
   "cell_type": "code",
   "execution_count": 13,
   "metadata": {},
   "outputs": [],
   "source": [
    "%%R\n",
    "library(dplyr)\n",
    "library(arrow)"
   ]
  },
  {
   "cell_type": "markdown",
   "metadata": {},
   "source": [
    "##### Pandas"
   ]
  },
  {
   "cell_type": "code",
   "execution_count": 14,
   "metadata": {},
   "outputs": [
    {
     "name": "stdout",
     "output_type": "stream",
     "text": [
      "[1] \"data.frame\"\n",
      "     time              lat_min          lat_max          lon_min     \n",
      " Length:1000000     Min.   :-36.25   Min.   :-35.00   Min.   :140.6  \n",
      " Class :character   1st Qu.:-36.25   1st Qu.:-35.00   1st Qu.:142.5  \n",
      " Mode  :character   Median :-35.00   Median :-33.75   Median :146.2  \n",
      "                    Mean   :-34.92   Mean   :-33.67   Mean   :146.1  \n",
      "                    3rd Qu.:-33.75   3rd Qu.:-32.50   3rd Qu.:150.0  \n",
      "                    Max.   :-32.50   Max.   :-31.25   Max.   :151.9  \n",
      "    lon_max      rain (mm/day)         model          \n",
      " Min.   :142.5   Min.   :  0.0000   Length:1000000    \n",
      " 1st Qu.:144.4   1st Qu.:  0.0082   Class :character  \n",
      " Median :148.1   Median :  0.1190   Mode  :character  \n",
      " Mean   :147.9   Mean   :  1.7961                     \n",
      " 3rd Qu.:151.9   3rd Qu.:  0.8148                     \n",
      " Max.   :153.8   Max.   :432.9395                     \n",
      "Time difference of 0.2850361 secs\n",
      "Wall time: 46.2 s\n"
     ]
    }
   ],
   "source": [
    "%%time\n",
    "%%R -i df\n",
    "\n",
    "start_time <- Sys.time()\n",
    "print(class(df))\n",
    "result <- df %>% collect() %>% summary()\n",
    "end_time <- Sys.time()\n",
    "print(result)\n",
    "print(end_time - start_time)"
   ]
  },
  {
   "cell_type": "markdown",
   "metadata": {},
   "source": [
    "##### Arrow"
   ]
  },
  {
   "cell_type": "code",
   "execution_count": 15,
   "metadata": {},
   "outputs": [
    {
     "name": "stdout",
     "output_type": "stream",
     "text": [
      "6052\n",
      "rarrow.ChunkedArray: 0.0380098819732666\n",
      "6052\n",
      "rarrow.ChunkedArray: 0.028034687042236328\n",
      "6052\n",
      "rarrow.ChunkedArray: 0.03199338912963867\n",
      "6052\n",
      "rarrow.ChunkedArray: 0.048981428146362305\n",
      "6052\n",
      "rarrow.ChunkedArray: 0.0460052490234375\n",
      "6052\n",
      "rarrow.ChunkedArray: 0.029996156692504883\n",
      "6052\n",
      "rarrow.ChunkedArray: 0.030958175659179688\n"
     ]
    }
   ],
   "source": [
    "r_table = pyra.converter.py2rpy(table)"
   ]
  },
  {
   "cell_type": "code",
   "execution_count": 16,
   "metadata": {},
   "outputs": [
    {
     "name": "stdout",
     "output_type": "stream",
     "text": [
      "[1] \"Table\"       \"ArrowObject\" \"R6\"         \n",
      "[1] \"tbl_df\"     \"tbl\"        \"data.frame\"\n",
      "      time                        lat_min           lat_max      \n",
      " Min.   :1889-01-01 08:06:00   Min.   :-36       Min.   :-36.00  \n",
      " 1st Qu.:1920-07-02 20:00:00   1st Qu.:-35       1st Qu.:-33.66  \n",
      " Median :1952-01-01 20:00:00   Median :-33       Median :-32.04  \n",
      " Mean   :1952-01-02 00:32:09   Mean   :-33       Mean   :-31.98  \n",
      " 3rd Qu.:1983-07-02 20:00:00   3rd Qu.:-31       3rd Qu.:-30.16  \n",
      " Max.   :2014-12-31 20:00:00   Max.   :-30       Max.   :-27.91  \n",
      "                               NA's   :3219300                   \n",
      "    lon_min           lon_max      rain (mm/day)        model          \n",
      " Min.   :141       Min.   :141.2   Min.   :  0       Length:62467843   \n",
      " 1st Qu.:143       1st Qu.:145.0   1st Qu.:  0       Class :character  \n",
      " Median :147       Median :148.1   Median :  0       Mode  :character  \n",
      " Mean   :147       Mean   :148.2   Mean   :  2                         \n",
      " 3rd Qu.:150       3rd Qu.:151.3   3rd Qu.:  1                         \n",
      " Max.   :154       Max.   :155.6   Max.   :433                         \n",
      " NA's   :3219300                   NA's   :3219300                     \n",
      "Time difference of 36.8867 secs\n",
      "Wall time: 37 s\n"
     ]
    }
   ],
   "source": [
    "%%time\n",
    "%%R -i r_table\n",
    "\n",
    "start_time <- Sys.time()\n",
    "print(class(r_table))\n",
    "result <- r_table %>% collect() %>% summary()\n",
    "print(class(r_table %>% collect()))\n",
    "end_time <- Sys.time()\n",
    "print(result)\n",
    "print(end_time - start_time)"
   ]
  },
  {
   "cell_type": "markdown",
   "metadata": {},
   "source": [
    "##### Feather format"
   ]
  },
  {
   "cell_type": "code",
   "execution_count": null,
   "metadata": {},
   "outputs": [],
   "source": [
    "# %%time\n",
    "# %%R\n",
    "# start_time <- Sys.time()\n",
    "# r_table <- arrow::read_feather(\"combined.feather\")\n",
    "# print(class(r_table))\n",
    "# result <- r_table %>% summary()\n",
    "# end_time <- Sys.time()\n",
    "# print(result)\n",
    "# print(end_time - start_time)"
   ]
  },
  {
   "cell_type": "markdown",
   "metadata": {},
   "source": [
    "##### Parquet format"
   ]
  },
  {
   "cell_type": "code",
   "execution_count": 5,
   "metadata": {},
   "outputs": [
    {
     "name": "stdout",
     "output_type": "stream",
     "text": [
      "[1] \"tbl_df\"     \"tbl\"        \"data.frame\"\n"
     ]
    },
    {
     "name": "stderr",
     "output_type": "stream",
     "text": [
      "R[write to console]: \n",
      "Attaching package: 'dplyr'\n",
      "\n",
      "\n",
      "R[write to console]: The following objects are masked from 'package:stats':\n",
      "\n",
      "    filter, lag\n",
      "\n",
      "\n",
      "R[write to console]: The following objects are masked from 'package:base':\n",
      "\n",
      "    intersect, setdiff, setequal, union\n",
      "\n",
      "\n"
     ]
    },
    {
     "name": "stdout",
     "output_type": "stream",
     "text": [
      "      time                        lat_min           lat_max      \n",
      " Min.   :1889-01-01 08:06:00   Min.   :-36       Min.   :-36.00  \n",
      " 1st Qu.:1920-07-02 20:00:00   1st Qu.:-35       1st Qu.:-33.66  \n",
      " Median :1952-01-01 20:00:00   Median :-33       Median :-32.04  \n",
      " Mean   :1952-01-02 00:32:09   Mean   :-33       Mean   :-31.98  \n",
      " 3rd Qu.:1983-07-02 20:00:00   3rd Qu.:-31       3rd Qu.:-30.16  \n",
      " Max.   :2014-12-31 20:00:00   Max.   :-30       Max.   :-27.91  \n",
      "                               NA's   :3219300                   \n",
      "    lon_min           lon_max      rain (mm/day)        model          \n",
      " Min.   :141       Min.   :141.2   Min.   :  0       Length:62467843   \n",
      " 1st Qu.:143       1st Qu.:145.0   1st Qu.:  0       Class :character  \n",
      " Median :147       Median :148.1   Median :  0       Mode  :character  \n",
      " Mean   :147       Mean   :148.2   Mean   :  2                         \n",
      " 3rd Qu.:150       3rd Qu.:151.3   3rd Qu.:  1                         \n",
      " Max.   :154       Max.   :155.6   Max.   :433                         \n",
      " NA's   :3219300                   NA's   :3219300                     \n",
      "Time difference of 43.91868 secs\n",
      "Wall time: 44.1 s\n"
     ]
    }
   ],
   "source": [
    "%%time\n",
    "%%R\n",
    "\n",
    "start_time <- Sys.time()\n",
    "r_table <- arrow::read_parquet(\"combined.parquet\")\n",
    "print(class(r_table))\n",
    "library(dplyr)\n",
    "result <- r_table %>% summary()\n",
    "end_time <- Sys.time()\n",
    "print(result)\n",
    "print(end_time - start_time)"
   ]
  },
  {
   "cell_type": "markdown",
   "metadata": {},
   "source": [
    "#### Discussion"
   ]
  },
  {
   "cell_type": "markdown",
   "metadata": {},
   "source": [
    "From above results, our group would choose parquet format to transfer the dataframe from python to R. First, the file size of our combined data is 542M with parquet format, which is much smaller than the file sizes with csv (6.0G) and feather (1.1G) format. Second, the wall time for parquet format is shorter than the wall time for feather format. The wall time for csv is a little bit shorter than the wall time for parquet. However, consider both the file size and speed, it would be better and reasonable to choose parquet format to transfer the dataframe from python to R."
   ]
  },
  {
   "cell_type": "markdown",
   "metadata": {},
   "source": [
    "##### More simpe EDA with Parquet format"
   ]
  },
  {
   "cell_type": "code",
   "execution_count": 6,
   "metadata": {},
   "outputs": [
    {
     "name": "stdout",
     "output_type": "stream",
     "text": [
      "[1] \"tbl_df\"     \"tbl\"        \"data.frame\"\n",
      "Wall time: 9.31 s\n"
     ]
    }
   ],
   "source": [
    "%%time\n",
    "%%R\n",
    "r_table <- arrow::read_parquet(\"combined.parquet\")\n",
    "class(r_table)"
   ]
  },
  {
   "cell_type": "code",
   "execution_count": 7,
   "metadata": {},
   "outputs": [
    {
     "name": "stdout",
     "output_type": "stream",
     "text": [
      "\u001b[38;5;246m# A tibble: 6 x 7\u001b[39m\n",
      "  time                lat_min lat_max lon_min lon_max `rain (mm/day)` model     \n",
      "  \u001b[3m\u001b[38;5;246m<dttm>\u001b[39m\u001b[23m                \u001b[3m\u001b[38;5;246m<dbl>\u001b[39m\u001b[23m   \u001b[3m\u001b[38;5;246m<dbl>\u001b[39m\u001b[23m   \u001b[3m\u001b[38;5;246m<dbl>\u001b[39m\u001b[23m   \u001b[3m\u001b[38;5;246m<dbl>\u001b[39m\u001b[23m           \u001b[3m\u001b[38;5;246m<dbl>\u001b[39m\u001b[23m \u001b[3m\u001b[38;5;246m<chr>\u001b[39m\u001b[23m     \n",
      "\u001b[38;5;250m1\u001b[39m 1889-01-01 \u001b[38;5;246m20:06:00\u001b[39m   -\u001b[31m36\u001b[39m\u001b[31m.\u001b[39m\u001b[31m2\u001b[39m     -\u001b[31m35\u001b[39m    141.    142.        3.29\u001b[38;5;246me\u001b[39m\u001b[31m-13\u001b[39m \u001b[38;5;246m\"\u001b[39mdata\\\\AC~\n",
      "\u001b[38;5;250m2\u001b[39m 1889-01-02 \u001b[38;5;246m20:06:00\u001b[39m   -\u001b[31m36\u001b[39m\u001b[31m.\u001b[39m\u001b[31m2\u001b[39m     -\u001b[31m35\u001b[39m    141.    142.        0.  \u001b[38;5;246m \u001b[39m    \u001b[38;5;246m\"\u001b[39mdata\\\\AC~\n",
      "\u001b[38;5;250m3\u001b[39m 1889-01-03 \u001b[38;5;246m20:06:00\u001b[39m   -\u001b[31m36\u001b[39m\u001b[31m.\u001b[39m\u001b[31m2\u001b[39m     -\u001b[31m35\u001b[39m    141.    142.        0.  \u001b[38;5;246m \u001b[39m    \u001b[38;5;246m\"\u001b[39mdata\\\\AC~\n",
      "\u001b[38;5;250m4\u001b[39m 1889-01-04 \u001b[38;5;246m20:06:00\u001b[39m   -\u001b[31m36\u001b[39m\u001b[31m.\u001b[39m\u001b[31m2\u001b[39m     -\u001b[31m35\u001b[39m    141.    142.        0.  \u001b[38;5;246m \u001b[39m    \u001b[38;5;246m\"\u001b[39mdata\\\\AC~\n",
      "\u001b[38;5;250m5\u001b[39m 1889-01-05 \u001b[38;5;246m20:06:00\u001b[39m   -\u001b[31m36\u001b[39m\u001b[31m.\u001b[39m\u001b[31m2\u001b[39m     -\u001b[31m35\u001b[39m    141.    142.        1.05\u001b[38;5;246me\u001b[39m\u001b[31m- 2\u001b[39m \u001b[38;5;246m\"\u001b[39mdata\\\\AC~\n",
      "\u001b[38;5;250m6\u001b[39m 1889-01-06 \u001b[38;5;246m20:06:00\u001b[39m   -\u001b[31m36\u001b[39m\u001b[31m.\u001b[39m\u001b[31m2\u001b[39m     -\u001b[31m35\u001b[39m    141.    142.        3.29\u001b[38;5;246me\u001b[39m\u001b[31m- 2\u001b[39m \u001b[38;5;246m\"\u001b[39mdata\\\\AC~\n",
      "Wall time: 3.17 s\n"
     ]
    }
   ],
   "source": [
    "%%time\n",
    "%%R\n",
    "head(r_table)"
   ]
  },
  {
   "cell_type": "code",
   "execution_count": 8,
   "metadata": {},
   "outputs": [
    {
     "name": "stdout",
     "output_type": "stream",
     "text": [
      "\u001b[38;5;246m# A tibble: 6 x 7\u001b[39m\n",
      "  time                lat_min lat_max lon_min lon_max `rain (mm/day)` model     \n",
      "  \u001b[3m\u001b[38;5;246m<dttm>\u001b[39m\u001b[23m                \u001b[3m\u001b[38;5;246m<dbl>\u001b[39m\u001b[23m   \u001b[3m\u001b[38;5;246m<dbl>\u001b[39m\u001b[23m   \u001b[3m\u001b[38;5;246m<dbl>\u001b[39m\u001b[23m   \u001b[3m\u001b[38;5;246m<dbl>\u001b[39m\u001b[23m           \u001b[3m\u001b[38;5;246m<dbl>\u001b[39m\u001b[23m \u001b[3m\u001b[38;5;246m<chr>\u001b[39m\u001b[23m     \n",
      "\u001b[38;5;250m1\u001b[39m 2014-12-26 \u001b[38;5;246m20:00:00\u001b[39m   -\u001b[31m30\u001b[39m\u001b[31m.\u001b[39m\u001b[31m2\u001b[39m   -\u001b[31m29\u001b[39m\u001b[31m.\u001b[39m\u001b[31m2\u001b[39m    153.    154.           0.435 \u001b[38;5;246m\"\u001b[39mdata\\\\Ta~\n",
      "\u001b[38;5;250m2\u001b[39m 2014-12-27 \u001b[38;5;246m20:00:00\u001b[39m   -\u001b[31m30\u001b[39m\u001b[31m.\u001b[39m\u001b[31m2\u001b[39m   -\u001b[31m29\u001b[39m\u001b[31m.\u001b[39m\u001b[31m2\u001b[39m    153.    154.           0.554 \u001b[38;5;246m\"\u001b[39mdata\\\\Ta~\n",
      "\u001b[38;5;250m3\u001b[39m 2014-12-28 \u001b[38;5;246m20:00:00\u001b[39m   -\u001b[31m30\u001b[39m\u001b[31m.\u001b[39m\u001b[31m2\u001b[39m   -\u001b[31m29\u001b[39m\u001b[31m.\u001b[39m\u001b[31m2\u001b[39m    153.    154.           7.03  \u001b[38;5;246m\"\u001b[39mdata\\\\Ta~\n",
      "\u001b[38;5;250m4\u001b[39m 2014-12-29 \u001b[38;5;246m20:00:00\u001b[39m   -\u001b[31m30\u001b[39m\u001b[31m.\u001b[39m\u001b[31m2\u001b[39m   -\u001b[31m29\u001b[39m\u001b[31m.\u001b[39m\u001b[31m2\u001b[39m    153.    154.           0.235 \u001b[38;5;246m\"\u001b[39mdata\\\\Ta~\n",
      "\u001b[38;5;250m5\u001b[39m 2014-12-30 \u001b[38;5;246m20:00:00\u001b[39m   -\u001b[31m30\u001b[39m\u001b[31m.\u001b[39m\u001b[31m2\u001b[39m   -\u001b[31m29\u001b[39m\u001b[31m.\u001b[39m\u001b[31m2\u001b[39m    153.    154.           2.10  \u001b[38;5;246m\"\u001b[39mdata\\\\Ta~\n",
      "\u001b[38;5;250m6\u001b[39m 2014-12-31 \u001b[38;5;246m20:00:00\u001b[39m   -\u001b[31m30\u001b[39m\u001b[31m.\u001b[39m\u001b[31m2\u001b[39m   -\u001b[31m29\u001b[39m\u001b[31m.\u001b[39m\u001b[31m2\u001b[39m    153.    154.           0.548 \u001b[38;5;246m\"\u001b[39mdata\\\\Ta~\n",
      "Wall time: 501 ms\n"
     ]
    }
   ],
   "source": [
    "%%time\n",
    "%%R\n",
    "tail(r_table)"
   ]
  },
  {
   "cell_type": "markdown",
   "metadata": {},
   "source": [
    "### Reflection"
   ]
  },
  {
   "cell_type": "markdown",
   "metadata": {},
   "source": [
    "- Challenges with downloading the data\n",
    "    - It takes really long time to download the large size of data because of the internet connection. I fail to download the data with my own VPN. I successfully download the data by using UBC VPN\n",
    "    \n",
    "- Challenges with performing a simple EDA in R\n",
    "    - It takes really long time to transfer dataframe from python to R with feather format. Like more than an hour. I try to restart PC and Jupyter Lab but doesn't work. I comment the code cell for feather format and get the conclusion that it takes longer time than the other formats."
   ]
  }
 ],
 "metadata": {
  "kernelspec": {
   "display_name": "Python [conda env:525]",
   "language": "python",
   "name": "conda-env-525-py"
  },
  "language_info": {
   "codemirror_mode": {
    "name": "ipython",
    "version": 3
   },
   "file_extension": ".py",
   "mimetype": "text/x-python",
   "name": "python",
   "nbconvert_exporter": "python",
   "pygments_lexer": "ipython3",
   "version": "3.9.2"
  }
 },
 "nbformat": 4,
 "nbformat_minor": 5
}
